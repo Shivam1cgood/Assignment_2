{
 "cells": [
  {
   "cell_type": "code",
   "execution_count": 1,
   "id": "d839e59f-8df3-45a4-a3e0-b19e9d9ec365",
   "metadata": {},
   "outputs": [
    {
     "data": {
      "text/plain": [
       "' Q1. Write a program to reverse a string. '"
      ]
     },
     "execution_count": 1,
     "metadata": {},
     "output_type": "execute_result"
    }
   ],
   "source": [
    "\"\"\" Q1. Write a program to reverse a string. \"\"\""
   ]
  },
  {
   "cell_type": "code",
   "execution_count": null,
   "id": "f5d1c1d5-46bb-4e26-8c74-b11cf6db6e6d",
   "metadata": {},
   "outputs": [
    {
     "name": "stdout",
     "output_type": "stream",
     "text": [
      "dcba\n"
     ]
    }
   ],
   "source": [
    "S = \"abcd\"\n",
    "print(S[::-1])"
   ]
  },
  {
   "cell_type": "code",
   "execution_count": 3,
   "id": "193157d0-5546-41b0-a012-9712ee4d5dde",
   "metadata": {},
   "outputs": [
    {
     "data": {
      "text/plain": [
       "'\\nQ2. Check if a string is a palindrome\\n'"
      ]
     },
     "execution_count": 3,
     "metadata": {},
     "output_type": "execute_result"
    }
   ],
   "source": [
    "\"\"\"\n",
    "Q2. Check if a string is a palindrome\n",
    "\"\"\""
   ]
  },
  {
   "cell_type": "code",
   "execution_count": null,
   "id": "ad601c9e-32cd-4052-9c71-f80f67e14e49",
   "metadata": {},
   "outputs": [
    {
     "name": "stdout",
     "output_type": "stream",
     "text": [
      "Given string  is a palindrome\n"
     ]
    },
    {
     "data": {
      "text/plain": [
       "'asdfdsa'"
      ]
     },
     "execution_count": 10,
     "metadata": {},
     "output_type": "execute_result"
    }
   ],
   "source": [
    "s1 = \"asdfdsa\"\n",
    "def palindrome(a):\n",
    "    if a == a[::-1]:\n",
    "        print(\"Given string  is a palindrome\")\n",
    "        return True\n",
    "    else:\n",
    "        print(\"Given String is not a palindrime\")\n",
    "        return False\n",
    "\n"
   ]
  },
  {
   "cell_type": "code",
   "execution_count": 12,
   "id": "2356e1b4-9ffa-4fdf-bcba-d03954dd7797",
   "metadata": {},
   "outputs": [
    {
     "name": "stdout",
     "output_type": "stream",
     "text": [
      "Given string  is a palindrome\n"
     ]
    },
    {
     "data": {
      "text/plain": [
       "True"
      ]
     },
     "execution_count": 12,
     "metadata": {},
     "output_type": "execute_result"
    }
   ],
   "source": [
    "palindrome(s1)\n"
   ]
  },
  {
   "cell_type": "code",
   "execution_count": 11,
   "id": "3ea2fa3d-fcd0-4334-9984-6feb5ad897af",
   "metadata": {},
   "outputs": [
    {
     "name": "stdout",
     "output_type": "stream",
     "text": [
      "Given String is not a palindrime\n"
     ]
    },
    {
     "data": {
      "text/plain": [
       "False"
      ]
     },
     "execution_count": 11,
     "metadata": {},
     "output_type": "execute_result"
    }
   ],
   "source": [
    "palindrome(\"vsij\")"
   ]
  },
  {
   "cell_type": "code",
   "execution_count": 13,
   "id": "678a1477-4e37-402c-b9e6-94498df6e91d",
   "metadata": {},
   "outputs": [
    {
     "data": {
      "text/plain": [
       "'\\nQ3 Convert a string to uppercase\\n'"
      ]
     },
     "execution_count": 13,
     "metadata": {},
     "output_type": "execute_result"
    }
   ],
   "source": [
    "\"\"\"\n",
    "Q3 Convert a string to uppercase\n",
    "\"\"\""
   ]
  },
  {
   "cell_type": "code",
   "execution_count": 14,
   "id": "49937cfa-0d4b-49be-ae77-a3f766ecba5e",
   "metadata": {},
   "outputs": [
    {
     "name": "stdout",
     "output_type": "stream",
     "text": [
      "Given String in upper case is :  DSVNALK\n"
     ]
    }
   ],
   "source": [
    "s2 = \"dsvnalk\"\n",
    "print(\"Given String in upper case is : \" ,s2.upper())"
   ]
  },
  {
   "cell_type": "code",
   "execution_count": 15,
   "id": "74f530a5-f00d-4b79-a2d7-19413decc123",
   "metadata": {},
   "outputs": [
    {
     "data": {
      "text/plain": [
       "'\\nQ4 Convert a string to lowercase\\n'"
      ]
     },
     "execution_count": 15,
     "metadata": {},
     "output_type": "execute_result"
    }
   ],
   "source": [
    "\"\"\"\n",
    "Q4 Convert a string to lowercase\n",
    "\"\"\""
   ]
  },
  {
   "cell_type": "code",
   "execution_count": 16,
   "id": "dcf56872-08e9-4a9c-922c-01a66a5568bc",
   "metadata": {},
   "outputs": [
    {
     "name": "stdout",
     "output_type": "stream",
     "text": [
      "Given String in lowercase is :  dfbsiuj\n"
     ]
    }
   ],
   "source": [
    "s3 = \"DFBSIUJ\"\n",
    "print(\"Given String in lowercase is : \",s3.lower())"
   ]
  },
  {
   "cell_type": "code",
   "execution_count": 17,
   "id": "cd2a1a9b-4049-4b2e-8d22-a732e95c40b0",
   "metadata": {},
   "outputs": [
    {
     "data": {
      "text/plain": [
       "'\\n5. Count the number of vowels in a string.\\n'"
      ]
     },
     "execution_count": 17,
     "metadata": {},
     "output_type": "execute_result"
    }
   ],
   "source": [
    "\"\"\"\n",
    "5. Count the number of vowels in a string.\n",
    "\"\"\"\n"
   ]
  },
  {
   "cell_type": "code",
   "execution_count": 18,
   "id": "f6bb30b0-c1d3-48c0-aaa2-a10542685be3",
   "metadata": {},
   "outputs": [
    {
     "name": "stdout",
     "output_type": "stream",
     "text": [
      "Total number of vowels in given string is  5\n"
     ]
    }
   ],
   "source": [
    "vowel = ['a','e','i','o','u','A','E','I','O','U']\n",
    "s4 = \"Let'sCheckForVowels\"\n",
    "count = 0\n",
    "for i in s4:\n",
    "    if i in vowel:\n",
    "        count+=1\n",
    "print(\"Total number of vowels in given string is \",count)\n",
    "    "
   ]
  },
  {
   "cell_type": "code",
   "execution_count": 26,
   "id": "5a371ded-545a-4d54-bc80-179c562e6cd9",
   "metadata": {},
   "outputs": [
    {
     "data": {
      "text/plain": [
       "'\\n6. Count the number of consonants in a string\\n'"
      ]
     },
     "execution_count": 26,
     "metadata": {},
     "output_type": "execute_result"
    }
   ],
   "source": [
    "\"\"\"\n",
    "6. Count the number of consonants in a string\n",
    "\"\"\""
   ]
  },
  {
   "cell_type": "code",
   "execution_count": 27,
   "id": "6efa1ea0-ce34-4bca-a44f-a3bcd88d39fb",
   "metadata": {},
   "outputs": [
    {
     "name": "stdout",
     "output_type": "stream",
     "text": [
      "Total number of consonants in given string is  13\n"
     ]
    }
   ],
   "source": [
    "vowel = ['a','e','i','o','u','A','E','I','O','U']\n",
    "string = \"Let'sCheckForVowels\"\n",
    "count=0\n",
    "for i in string:\n",
    "    if i.isalpha() and i not in vowel:\n",
    "        count+=1\n",
    "print(\"Total number of consonants in given string is \",count)"
   ]
  },
  {
   "cell_type": "code",
   "execution_count": 19,
   "id": "de9f12f6-e925-4d0b-a457-687ff5ee000b",
   "metadata": {},
   "outputs": [
    {
     "data": {
      "text/plain": [
       "'\\n7. Remove all whitespaces from a string\\n'"
      ]
     },
     "execution_count": 19,
     "metadata": {},
     "output_type": "execute_result"
    }
   ],
   "source": [
    "\"\"\"\n",
    "7. Remove all whitespaces from a string\n",
    "\"\"\""
   ]
  },
  {
   "cell_type": "code",
   "execution_count": 20,
   "id": "2047a118-751d-4b7e-8a12-ca1740208a7d",
   "metadata": {},
   "outputs": [
    {
     "name": "stdout",
     "output_type": "stream",
     "text": [
      "String without whitespaces is :  Removewhitespaces\n"
     ]
    }
   ],
   "source": [
    "s5 = \"  Remove white spaces\"\n",
    "\n",
    "words = s5.split()\n",
    "newString= \"\"\n",
    "for i in words:\n",
    "    newString+=i\n",
    "print(\"String without whitespaces is : \",newString)"
   ]
  },
  {
   "cell_type": "code",
   "execution_count": 25,
   "id": "06d0e508-2b6b-4ff7-a14d-16cfaaedc445",
   "metadata": {},
   "outputs": [
    {
     "name": "stdout",
     "output_type": "stream",
     "text": [
      "Length of original String 8\n",
      "String without whitespaces is :  remove\n",
      "Length of String after space removal 6\n"
     ]
    }
   ],
   "source": [
    "\"\"\" Length fuction is used just to show the comparision\"\"\"\n",
    "\n",
    "s5 = \"  remove\"\n",
    "print(\"Length of original String\",len(s5))\n",
    "\n",
    "words = s5.split()\n",
    "newString= \"\"\n",
    "for i in words:\n",
    "    newString+=i\n",
    "print(\"String without whitespaces is : \",newString)\n",
    "print(\"Length of String after space removal\",len(newString))"
   ]
  },
  {
   "cell_type": "code",
   "execution_count": 28,
   "id": "2d5f79c6-aec1-4915-97df-745a11fb615b",
   "metadata": {},
   "outputs": [
    {
     "name": "stdout",
     "output_type": "stream",
     "text": [
      "Length of the given String is  10\n"
     ]
    }
   ],
   "source": [
    "\"\"\"\n",
    "8. Find the length of a string without using the `len()` function\n",
    "\"\"\"\n",
    "string1 = \"FindLength\"\n",
    "length=0\n",
    "for i in string1:\n",
    "    length+=1\n",
    "print(\"Length of the given String is \",length)"
   ]
  },
  {
   "cell_type": "code",
   "execution_count": 29,
   "id": "3e451673-1770-4c53-ae07-f5d8f43820fb",
   "metadata": {},
   "outputs": [
    {
     "data": {
      "text/plain": [
       "'\\n9. Check if a string contains a specific word.\\n'"
      ]
     },
     "execution_count": 29,
     "metadata": {},
     "output_type": "execute_result"
    }
   ],
   "source": [
    "\"\"\"\n",
    "9. Check if a string contains a specific word.\n",
    "\"\"\"\n"
   ]
  },
  {
   "cell_type": "code",
   "execution_count": 33,
   "id": "144f5dd5-1c85-4b8f-862e-a9a5e719f9b1",
   "metadata": {},
   "outputs": [
    {
     "name": "stdout",
     "output_type": "stream",
     "text": [
      "Word not Found\n"
     ]
    }
   ],
   "source": [
    "String = \"FindEmbeddedWord\"\n",
    "if \"bejnd\" in String:\n",
    "    print(\"Word Found\")\n",
    "else:\n",
    "    print(\"Word not Found\")\n",
    "    "
   ]
  },
  {
   "cell_type": "code",
   "execution_count": 34,
   "id": "3def7273-0c4f-493b-b60e-9c77fed89a04",
   "metadata": {},
   "outputs": [
    {
     "data": {
      "text/plain": [
       "'\\n10. Replace a word in a string with another word.\\n'"
      ]
     },
     "execution_count": 34,
     "metadata": {},
     "output_type": "execute_result"
    }
   ],
   "source": [
    "\"\"\"\n",
    "10. Replace a word in a string with another word.\n",
    "\"\"\""
   ]
  },
  {
   "cell_type": "code",
   "execution_count": 4,
   "id": "6e64345c-18a2-431b-9a97-55581b9745a1",
   "metadata": {},
   "outputs": [
    {
     "name": "stdout",
     "output_type": "stream",
     "text": [
      "Original string : \n",
      "Replacing a word with another word\n",
      "Modified string : \n",
      "Replacing a word to another word\n"
     ]
    }
   ],
   "source": [
    "string = \"Replacing a word with another word\"\n",
    "string2 = string.replace(\"with\",\"to\")\n",
    "print(\"Original string : \")\n",
    "print(string)\n",
    "print(\"Modified string : \")\n",
    "print(string2)"
   ]
  },
  {
   "cell_type": "code",
   "execution_count": 5,
   "id": "c0a85003-7fde-4edb-89d5-5521c624622e",
   "metadata": {},
   "outputs": [
    {
     "name": "stdout",
     "output_type": "stream",
     "text": [
      "Number of occurences of 'two' in the given string is :  3\n"
     ]
    }
   ],
   "source": [
    "\"\"\"\n",
    "11. Count the occurrences of a word in a string.\n",
    "\"\"\"\n",
    "s1 = \"one two three four two three three three one two\"\n",
    "print(\"Number of occurences of 'two' in the given string is : \",s1.count(\"two\"))\n"
   ]
  },
  {
   "cell_type": "code",
   "execution_count": 7,
   "id": "a96cab08-175d-404f-9239-509495b6f4e4",
   "metadata": {},
   "outputs": [
    {
     "name": "stdout",
     "output_type": "stream",
     "text": [
      "First occurence of 'four' in given string is at index  14\n"
     ]
    }
   ],
   "source": [
    "\"\"\"\n",
    "12. Find the first occurrence of a word in a string.\n",
    "\"\"\"\n",
    "s1 = \"one two three four two three three three one two\"\n",
    "idx = s1.find(\"four\")\n",
    "print(\"First occurence of 'four' in given string is at index \",idx)\n"
   ]
  },
  {
   "cell_type": "code",
   "execution_count": 8,
   "id": "093a3691-9fb7-4323-85c8-404cc7c26a68",
   "metadata": {},
   "outputs": [
    {
     "name": "stdout",
     "output_type": "stream",
     "text": [
      "Last occurence of 'one' in given string is at index 41\n"
     ]
    }
   ],
   "source": [
    "\"\"\"\n",
    "13. Find the last occurrence of a word in a string.\n",
    "\"\"\"\n",
    "s1 = \"one two three four two three three three one two\"\n",
    "idx = s1.rfind(\"one\")\n",
    "print(\"Last occurence of 'one' in given string is at index\",idx)"
   ]
  },
  {
   "cell_type": "code",
   "execution_count": 11,
   "id": "89a2af72-c800-44ac-824f-cfd7ea2ed09c",
   "metadata": {},
   "outputs": [
    {
     "name": "stdout",
     "output_type": "stream",
     "text": [
      "['This', 'is', 'a', 'String']\n"
     ]
    }
   ],
   "source": [
    "\"\"\"\n",
    "14. Split a string into a list of words.\n",
    "\"\"\"\n",
    "\n",
    "s1 = \"This is a String\"\n",
    "l1 = s1.split()\n",
    "print(l1)"
   ]
  },
  {
   "cell_type": "code",
   "execution_count": 12,
   "id": "8c3bb6eb-81fa-4589-95b1-f5c8729a040b",
   "metadata": {},
   "outputs": [
    {
     "name": "stdout",
     "output_type": "stream",
     "text": [
      "This is a list of words\n"
     ]
    }
   ],
   "source": [
    "\"\"\"\n",
    "15. Join a list of words into a string.\n",
    "\"\"\"\n",
    "s=\"\"\n",
    "l1 = [\"This\", \" is\",\" a\",\" list\",\" of\",\" words\"]\n",
    "for i in l1:\n",
    "    s+=i\n",
    "print(s)"
   ]
  },
  {
   "cell_type": "code",
   "execution_count": 13,
   "id": "f6ce7d50-d48a-4d45-9ac3-8041cc7ac249",
   "metadata": {},
   "outputs": [
    {
     "name": "stdout",
     "output_type": "stream",
     "text": [
      "This_is_an_example_of_string\n"
     ]
    }
   ],
   "source": [
    "\"\"\"\n",
    "16. Convert a string where words are separated by spaces to one where words\n",
    "are separated by underscores.\n",
    "\"\"\"\n",
    "\n",
    "s= \"This is an example of string\"\n",
    "s2 = s.replace(\" \",\"_\")\n",
    "print(s2)"
   ]
  },
  {
   "cell_type": "code",
   "execution_count": 15,
   "id": "0a27126f-8c90-4907-9943-a45bb6256fd8",
   "metadata": {},
   "outputs": [
    {
     "name": "stdout",
     "output_type": "stream",
     "text": [
      "True\n"
     ]
    }
   ],
   "source": [
    "\"\"\"\n",
    "17. Check if a string starts with a specific word or phrase.\n",
    "\"\"\"\n",
    "\n",
    "s=\"Check if given string starts with a word\"\n",
    "if s.startswith(\"Check\"):\n",
    "    print(\"True\")\n",
    "else:\n",
    "    print(\"False\")\n"
   ]
  },
  {
   "cell_type": "code",
   "execution_count": 16,
   "id": "84679b2e-49e9-4c28-bbed-a91caad41fe7",
   "metadata": {},
   "outputs": [
    {
     "name": "stdout",
     "output_type": "stream",
     "text": [
      "true\n"
     ]
    }
   ],
   "source": [
    "\"\"\"\n",
    "18. Check if a string ends with a specific word or phrase.\n",
    "\"\"\"\n",
    "\n",
    "s=\"Check if given string starts with a word\"\n",
    "if s.endswith(\"word\"):\n",
    "    print(\"true\")\n",
    "else:\n",
    "    print(\"false\")\n"
   ]
  },
  {
   "cell_type": "code",
   "execution_count": 1,
   "id": "0c827490-0966-457b-b443-5814ec13f61a",
   "metadata": {},
   "outputs": [
    {
     "name": "stdout",
     "output_type": "stream",
     "text": [
      "Old String : \n",
      "this is an example string\n",
      "Modified String : \n",
      "This Is An Example String\n"
     ]
    }
   ],
   "source": [
    "\"\"\"\n",
    "19. Convert a string to title case (e.g., \"hello world\" to \"Hello World\").\n",
    "\"\"\"\n",
    "\n",
    "S = \"this is an example string\"\n",
    "s= S.title()\n",
    "print(\"Old String : \")\n",
    "print(S)\n",
    "print(\"Modified String : \")\n",
    "print(s)"
   ]
  },
  {
   "cell_type": "code",
   "execution_count": 19,
   "id": "0c79b4b6-e1fd-4462-a95f-613f54713ae1",
   "metadata": {},
   "outputs": [
    {
     "name": "stdout",
     "output_type": "stream",
     "text": [
      "Longest word in given string is :  example\n"
     ]
    }
   ],
   "source": [
    "\"\"\"\n",
    "20. Find the longest word in a string.\n",
    "\"\"\"\n",
    "\n",
    "s= \"Let us take an example string\"\n",
    "l = s.split()\n",
    "m = l[0]\n",
    "for i in l:\n",
    "    if len(i) > len(m):\n",
    "        m = i\n",
    "print(\"Longest word in given string is : \",m)\n",
    "    "
   ]
  },
  {
   "cell_type": "code",
   "execution_count": 20,
   "id": "dba16e6e-bb1f-4466-a38a-8870f6bc4e50",
   "metadata": {},
   "outputs": [
    {
     "name": "stdout",
     "output_type": "stream",
     "text": [
      "Shortest word in given string is :  us\n"
     ]
    }
   ],
   "source": [
    "\"\"\"\n",
    "21. Find the shortest word in a string.\n",
    "\"\"\"\n",
    "\n",
    "s= \"Let us take an example string\"\n",
    "l = s.split()\n",
    "m = l[0]\n",
    "for i in l:\n",
    "    if len(i) < len(m):\n",
    "        m = i\n",
    "print(\"Shortest word in given string is : \",m)\n",
    "    "
   ]
  },
  {
   "cell_type": "code",
   "execution_count": 4,
   "id": "1306fb89-2afc-468b-9358-daf685da82ad",
   "metadata": {},
   "outputs": [
    {
     "name": "stdout",
     "output_type": "stream",
     "text": [
      "string example an take us Let\n"
     ]
    }
   ],
   "source": [
    "\"\"\"\n",
    "22. Reverse the order of words in a string.\n",
    "\"\"\"\n",
    "s= \"Let us take an example string\"\n",
    "\n",
    "l = s.split()\n",
    "\n",
    "new_string = \" \".join(l[::-1])\n",
    "\n",
    "print(new_string)"
   ]
  },
  {
   "cell_type": "code",
   "execution_count": 8,
   "id": "35776afa-5d3f-4370-b10a-60c4b78b5c50",
   "metadata": {},
   "outputs": [
    {
     "name": "stdout",
     "output_type": "stream",
     "text": [
      "True\n",
      "True\n",
      "True\n",
      "False\n"
     ]
    }
   ],
   "source": [
    "\"\"\"\n",
    "23. Check if a string is alphanumeric.\n",
    "\"\"\"\n",
    "\n",
    "s = \"dnfb254xfv\"\n",
    "s2 = \"jdbfjk\"\n",
    "s3 = \"15725\"\n",
    "\n",
    "s4 = \"jdos 234\"\n",
    "print(s.isalnum())\n",
    "\n",
    "print(s2.isalnum())\n",
    "\n",
    "print(s3.isalnum())\n",
    "\n",
    "print(s4.isalnum())\n"
   ]
  },
  {
   "cell_type": "code",
   "execution_count": 9,
   "id": "13bec180-5594-4e1e-8afa-95ff4b1d8613",
   "metadata": {},
   "outputs": [
    {
     "name": "stdout",
     "output_type": "stream",
     "text": [
      "45632454625\n"
     ]
    }
   ],
   "source": [
    "\"\"\"\n",
    "24. Extract all digits from a string.\n",
    "\"\"\"\n",
    "\n",
    "s = \"kjdnvilkq4tw56324n5lk462n5\"\n",
    "ans =\"\"\n",
    "for i in s:\n",
    "    if i.isdigit():\n",
    "        ans +=i\n",
    "print(ans)"
   ]
  },
  {
   "cell_type": "code",
   "execution_count": 10,
   "id": "0461ac28-e8fd-4281-af4d-9c1008d678cb",
   "metadata": {},
   "outputs": [
    {
     "name": "stdout",
     "output_type": "stream",
     "text": [
      "kjdnvilkqtwnlkn\n"
     ]
    }
   ],
   "source": [
    "\"\"\"\n",
    "25. Extract all alphabets from a string.\n",
    "\"\"\"\n",
    "s = \"kjdnvilkq4tw56324n5lk462n5\"\n",
    "ans = \"\"\n",
    "for i in s:\n",
    "    if i.isalpha():\n",
    "        ans+=i\n",
    "print(ans)"
   ]
  },
  {
   "cell_type": "code",
   "execution_count": 11,
   "id": "663610ce-fc7c-438a-a66e-b2ee4c3ec564",
   "metadata": {},
   "outputs": [
    {
     "name": "stdout",
     "output_type": "stream",
     "text": [
      "7\n"
     ]
    }
   ],
   "source": [
    "\"\"\"\n",
    "26. Count the number of uppercase letters in a string.\n",
    "\"\"\"\n",
    "\n",
    "s = \"MHZmbdsjnDHBS\"\n",
    "\n",
    "count = 0;\n",
    "for i in s:\n",
    "    if i.isupper():\n",
    "        count+=1\n",
    "print(count)"
   ]
  },
  {
   "cell_type": "code",
   "execution_count": 12,
   "id": "9f27b481-3435-4d8d-a0e3-5e5c2092f1e3",
   "metadata": {},
   "outputs": [
    {
     "name": "stdout",
     "output_type": "stream",
     "text": [
      "6\n"
     ]
    }
   ],
   "source": [
    "\"\"\"\n",
    ".\n",
    "27. Count the number of lowercase letters in a string.\n",
    "\"\"\"\n",
    "s = \"MHZmbdsjnDHBS\"\n",
    "count = 0;\n",
    "for i in s:\n",
    "    if i.islower():\n",
    "        count+=1\n",
    "print(count)\n"
   ]
  },
  {
   "cell_type": "code",
   "execution_count": 13,
   "id": "e3e3d843-97ff-45eb-bdce-4f2814d9a2fb",
   "metadata": {},
   "outputs": [
    {
     "name": "stdout",
     "output_type": "stream",
     "text": [
      "Original string :  MHZmbdsjnDHBS\n",
      "new String :  mhzMBDSJNdhbs\n"
     ]
    }
   ],
   "source": [
    "\"\"\"\n",
    "28. Swap the case of each character in a string.\n",
    "\"\"\"\n",
    "\n",
    "s = \"MHZmbdsjnDHBS\"\n",
    "newString = s.swapcase()\n",
    "\n",
    "print(\"Original string : \",s)\n",
    "print( \"new String : \",newString)"
   ]
  },
  {
   "cell_type": "code",
   "execution_count": 17,
   "id": "67789b97-27bd-4f09-ba39-7f68266a989b",
   "metadata": {},
   "outputs": [
    {
     "name": "stdout",
     "output_type": "stream",
     "text": [
      "Find a  word\n"
     ]
    }
   ],
   "source": [
    "\"\"\"\n",
    "29. Remove a specific word from a string.\n",
    "\"\"\"\n",
    "def remove_word(string,word):\n",
    "    i = string.find(word)\n",
    "    s = string[:i]+string[i+len(word):]\n",
    "    return s\n",
    "    \n",
    "s = \"Find a specific word\"\n",
    "print(remove_word(s,'specific'))"
   ]
  },
  {
   "cell_type": "code",
   "execution_count": 6,
   "id": "99c2fc6a-c6a4-45bb-b3df-a746a1d68642",
   "metadata": {},
   "outputs": [],
   "source": [
    "\"\"\"\n",
    "30. Check if a string is a valid email address.\n",
    "\"\"\"\n",
    "import re\n",
    "def valid_email(mail):\n",
    "    p = r\"[a-zA-Z0-9]+@[a-zA-Z0-9]+\\.+[a-zA-Z0-9]+$\"\n",
    "    return bool(re.match(p,mail))"
   ]
  },
  {
   "cell_type": "code",
   "execution_count": 12,
   "id": "c032183e-090b-4903-8835-6cea553eb40d",
   "metadata": {},
   "outputs": [
    {
     "name": "stdout",
     "output_type": "stream",
     "text": [
      "True\n",
      "False\n"
     ]
    }
   ],
   "source": [
    "a = \"abcd@gmail.com\"\n",
    "print(valid_email(a))\n",
    "\n",
    "b = \"abcda@gmail@.com\"\n",
    "print(valid_email(b))"
   ]
  },
  {
   "cell_type": "code",
   "execution_count": 13,
   "id": "b439fa0c-345c-4f72-8085-40f37074c9a4",
   "metadata": {},
   "outputs": [
    {
     "name": "stdout",
     "output_type": "stream",
     "text": [
      "example\n"
     ]
    }
   ],
   "source": [
    "\"\"\"\n",
    "31. Extract the username from an email address string.\n",
    "\"\"\"\n",
    "\n",
    "email = \"example@gmail.com\"\n",
    "l = email.split(\"@\")\n",
    "username = l[0]\n",
    "print(username)"
   ]
  },
  {
   "cell_type": "code",
   "execution_count": 14,
   "id": "085eb6d4-d524-4cc5-8946-fd7aea0a5be0",
   "metadata": {},
   "outputs": [
    {
     "name": "stdout",
     "output_type": "stream",
     "text": [
      "gmail.com\n"
     ]
    }
   ],
   "source": [
    "\"\"\"\n",
    "32. Extract the domain name from an email address string.\n",
    "\"\"\"\n",
    "\n",
    "email = \"example@gmail.com\"\n",
    "l = email.split(\"@\")\n",
    "domain_name = l[1];\n",
    "print(domain_name)"
   ]
  },
  {
   "cell_type": "code",
   "execution_count": 20,
   "id": "217209f5-724c-4140-a632-fdbf2195549f",
   "metadata": {},
   "outputs": [
    {
     "name": "stdout",
     "output_type": "stream",
     "text": [
      "original string :  This   is an    example\n",
      "modified string :  This is an example\n"
     ]
    }
   ],
   "source": [
    "\"\"\"\n",
    "33. Replace multiple spaces in a string with a single space.\n",
    "\"\"\"\n",
    "\n",
    "s = \"This   is an    example\"\n",
    "l = s.split()\n",
    "a1 = \" \".join(l)\n",
    "print(\"original string : \" ,s)\n",
    "print(\"modified string : \",a1)"
   ]
  },
  {
   "cell_type": "code",
   "execution_count": 6,
   "id": "4db77ba3-7589-437c-a90b-15b31502473e",
   "metadata": {},
   "outputs": [
    {
     "name": "stdout",
     "output_type": "stream",
     "text": [
      "valid url\n"
     ]
    }
   ],
   "source": [
    "\"\"\"\n",
    "34. Check if a string is a valid URL.\n",
    "\"\"\"\n",
    "from urllib.parse import urlparse\n",
    "\n",
    "def check_url(url):\n",
    "    res = urlparse(url)\n",
    "    return res.scheme and res.netloc\n",
    "\n",
    "url = \"https://green-waitress-crfut.pwskills.app/lab/tree/work\"\n",
    "ans = check_url(url)\n",
    "if(len(ans) == 0):\n",
    "    print(\"url is not valid\")\n",
    "else:\n",
    "    print(\"valid url\")"
   ]
  },
  {
   "cell_type": "code",
   "execution_count": 7,
   "id": "8d5c5354-928e-488c-b150-94f71e5e8722",
   "metadata": {},
   "outputs": [
    {
     "name": "stdout",
     "output_type": "stream",
     "text": [
      "https\n"
     ]
    }
   ],
   "source": [
    "\"\"\"\n",
    "35. Extract the protocol (http or https) from a URL string.\n",
    "\n",
    "\"\"\"\n",
    "url = \"https://green-waitress-crfut.pwskills.app/lab/tree/work\"\n",
    "print(urlparse(url).scheme)"
   ]
  },
  {
   "cell_type": "code",
   "execution_count": 17,
   "id": "2a82072b-1b84-49b0-8bfa-19cf10495a43",
   "metadata": {},
   "outputs": [
    {
     "name": "stdout",
     "output_type": "stream",
     "text": [
      "Frequency of  a  is  3\n",
      "Frequency of  d  is  2\n",
      "Frequency of  e  is  1\n",
      "Frequency of  c  is  2\n",
      "Frequency of  g  is  1\n",
      "Frequency of  b  is  2\n"
     ]
    }
   ],
   "source": [
    "\"\"\"\n",
    "36. Find the frequency of each character in a string.\n",
    "\"\"\"\n",
    "s = \"abcdacbeadg\"\n",
    "set1 = set()\n",
    "for i in s:\n",
    "    set1.add(i)\n",
    "for i in set1:\n",
    "    print(\"Frequency of \",i,\" is \",s.count(i))"
   ]
  },
  {
   "cell_type": "code",
   "execution_count": 4,
   "id": "ca61b263-08d2-451b-baef-0a762517a9c1",
   "metadata": {},
   "outputs": [
    {
     "name": "stdout",
     "output_type": "stream",
     "text": [
      "Hello Hows it going This is an example string full of punctuations Isnt it fun\n"
     ]
    }
   ],
   "source": [
    "\"\"\"\n",
    "37. Remove all punctuation from a string.\n",
    "\"\"\"\n",
    "import string\n",
    "pun = string.punctuation\n",
    "s = \"Hello! How's it going? This is an example string, full of punctuations!!! Isn't it fun?\"\n",
    "s1=\"\"\n",
    "# print(pun)\n",
    "for i in s:\n",
    "    if i not in pun:\n",
    "        s1+=i;\n",
    "print(s1)\n",
    "    "
   ]
  },
  {
   "cell_type": "code",
   "execution_count": 5,
   "id": "4064ebed-a7be-4629-972e-cb6b5870bc27",
   "metadata": {},
   "outputs": [
    {
     "name": "stdout",
     "output_type": "stream",
     "text": [
      "False\n",
      "True\n",
      "False\n"
     ]
    }
   ],
   "source": [
    "\"\"\"\n",
    "38. Check if a string contains only digits.\n",
    "\"\"\"\n",
    "s = \"dfbh235\"\n",
    "s1 = \"23513\"\n",
    "s2 = \"dfsk\"\n",
    "\n",
    "print(s.isdigit())\n",
    "print(s1.isdigit())\n",
    "print(s2.isdigit())"
   ]
  },
  {
   "cell_type": "code",
   "execution_count": 7,
   "id": "efb8d73d-b133-4c27-ae8a-85a9fab320b9",
   "metadata": {},
   "outputs": [
    {
     "name": "stdout",
     "output_type": "stream",
     "text": [
      "False\n",
      "False\n",
      "True\n"
     ]
    }
   ],
   "source": [
    "\"\"\"\n",
    "39. Check if a string contains only alphabets.\n",
    "\"\"\"\n",
    "s = \"dfbh235\"\n",
    "s1 = \"23513\"\n",
    "s2 = \"dfsk\"\n",
    "\n",
    "print(s.isalpha())\n",
    "print(s1.isalpha())\n",
    "print(s2.isalpha())\n"
   ]
  },
  {
   "cell_type": "code",
   "execution_count": 9,
   "id": "31958ef5-bc0a-4ea9-a51e-1503e3d7b9a7",
   "metadata": {},
   "outputs": [
    {
     "name": "stdout",
     "output_type": "stream",
     "text": [
      "['d', 'u', 'm', 'm', 'y', 's', 't', 'r', 'i', 'n', 'g']\n"
     ]
    }
   ],
   "source": [
    "\"\"\"\n",
    "40. Convert a string to a list of characters.\n",
    "\"\"\"\n",
    "\n",
    "s = \"dummystring\"\n",
    "\n",
    "l=[]\n",
    "for i in s:\n",
    "    l.append(i)\n",
    "print(l)"
   ]
  },
  {
   "cell_type": "code",
   "execution_count": 9,
   "id": "f871189a-27af-4c30-bbf4-08f8a314ca98",
   "metadata": {},
   "outputs": [
    {
     "name": "stdout",
     "output_type": "stream",
     "text": [
      "True\n",
      "False\n"
     ]
    }
   ],
   "source": [
    "\"\"\"\n",
    "41. Check if two strings are anagrams.\n",
    "\"\"\"\n",
    "\n",
    "s1 = \"tea\"\n",
    "s2 = \"eat\"\n",
    "\n",
    "s3 = \"tear\"\n",
    "\n",
    "print(sorted(s1) == sorted(s2))\n",
    "\n",
    "print(sorted(s1) == sorted(s3))\n",
    "\n"
   ]
  },
  {
   "cell_type": "code",
   "execution_count": 34,
   "id": "f04f2e78-0ebd-47c2-b9bd-7a7e83915bd5",
   "metadata": {},
   "outputs": [
    {
     "name": "stdout",
     "output_type": "stream",
     "text": [
      "15 Cwiwuv\n",
      "defabc\n"
     ]
    }
   ],
   "source": [
    "\"\"\"\n",
    "42. Encode a string using a Caesar cipher.\n",
    "\"\"\"\n",
    "\n",
    "def caesar_encode(string,key):\n",
    "    ans = \"\"\n",
    "    \n",
    "    for i in string:\n",
    "        if i.isdigit() or i.isspace() :\n",
    "            ans+=i\n",
    "            continue\n",
    "        up = i.isupper()\n",
    "        if up:\n",
    "            start = 'A'\n",
    "        else:\n",
    "            start = 'a'\n",
    "        idx = ord(i) - ord(start)\n",
    "        shift = idx + key \n",
    "        char = shift %26\n",
    "        ans += chr(char + ord(start))\n",
    "    return ans\n",
    "\n",
    "print(caesar_encode(\"15 August\",2))\n",
    "print(caesar_encode(\"abcxyz\",3))\n"
   ]
  },
  {
   "cell_type": "code",
   "execution_count": 37,
   "id": "07793455-760d-4773-b198-b428e69a0159",
   "metadata": {},
   "outputs": [
    {
     "name": "stdout",
     "output_type": "stream",
     "text": [
      "15 August\n",
      "abcxyz\n"
     ]
    }
   ],
   "source": [
    "\"\"\"\n",
    "43. Decode a Caesar cipher encoded string.\n",
    "\"\"\"\n",
    "def caesar_decode(string,key):\n",
    "    ans = \"\"\n",
    "    \n",
    "    for i in string:\n",
    "        if i.isdigit() or i.isspace() :\n",
    "            ans+=i\n",
    "            continue\n",
    "        up = i.isupper()\n",
    "        if up:\n",
    "            start = 'A'\n",
    "        else:\n",
    "            start = 'a'\n",
    "        idx = ord(i) - ord(start)\n",
    "        shift = idx - key \n",
    "        char = shift %26\n",
    "        ans += chr(char + ord(start))\n",
    "    return ans\n",
    "\n",
    "print(caesar_decode(\"15 Cwiwuv\",2))\n",
    "print(caesar_decode(\"defabc\",3))"
   ]
  },
  {
   "cell_type": "code",
   "execution_count": 5,
   "id": "468e9b04-f9ec-4568-8db9-e6ff8a34a16f",
   "metadata": {},
   "outputs": [
    {
     "name": "stdout",
     "output_type": "stream",
     "text": [
      "Most frequent word :  world\n"
     ]
    }
   ],
   "source": [
    "\"\"\"\n",
    "44. Find the most frequent word in a string.\n",
    "\"\"\"\n",
    "\n",
    "s = \"Hello world! This world is beautiful. This is true.\"\n",
    "p = string.punctuation\n",
    "n = \"\"\n",
    "for i in s:\n",
    "    if i not in p:\n",
    "        n += i\n",
    "l = n.split()\n",
    "\n",
    "freq = l[0];\n",
    "\n",
    "for i in l:\n",
    "    if l.count(i) > l.count(freq):\n",
    "        freq = i\n",
    "print(\"Most frequent word : \",freq)"
   ]
  },
  {
   "cell_type": "code",
   "execution_count": 9,
   "id": "9d96d4fe-6fb1-4e0f-8afb-751d43f6ff0c",
   "metadata": {},
   "outputs": [
    {
     "name": "stdout",
     "output_type": "stream",
     "text": [
      "Unique word in given string\n",
      "{'python', 'hello', 'is', 'powerful', 'world'}\n"
     ]
    }
   ],
   "source": [
    "\"\"\"\n",
    "45. Find all unique words in a string.\n",
    "\"\"\"\n",
    "s = \"Hello world, hello Python world! Python is powerful.\"\n",
    "p = string.punctuation\n",
    "n = \"\"\n",
    "for i in s:\n",
    "    if i not in p:\n",
    "        n += i\n",
    "l = n.split()\n",
    "l = [i.lower() for i in l] \n",
    "unique = set(l)\n",
    "print(\"Unique word in given string\")\n",
    "print(unique)"
   ]
  },
  {
   "cell_type": "code",
   "execution_count": 4,
   "id": "e7c31c56-a279-498e-90d5-373a923b7bec",
   "metadata": {},
   "outputs": [
    {
     "name": "stdout",
     "output_type": "stream",
     "text": [
      "Number of syllable :  5\n"
     ]
    }
   ],
   "source": [
    "\"\"\"\n",
    "46. Count the number of syllables in a string.\n",
    "\"\"\"\n",
    "def syllable(word):\n",
    "    vowel = \"AEIOUYaeioy\"\n",
    "    prev = \"\"\n",
    "    count=0\n",
    "    for i in word:\n",
    "        if i in vowel and prev not in vowel:\n",
    "            count+=1\n",
    "        prev = i\n",
    "        if word.endswith(('e','E')) and count >1:\n",
    "            count-=1\n",
    "    return count\n",
    "\n",
    "\n",
    "\n",
    "\n",
    "s = \"syllable counting in python\"\n",
    "\n",
    "l = s.split()\n",
    "count = 0\n",
    "for i in l:\n",
    "    count+=syllable(i)\n",
    "\n",
    "    \n",
    "print(\"Number of syllable : \",count)\n",
    "    \n",
    "\n"
   ]
  },
  {
   "cell_type": "code",
   "execution_count": 11,
   "id": "6be74932-f8a2-434b-9a32-e9bf552c06ec",
   "metadata": {},
   "outputs": [
    {
     "name": "stdout",
     "output_type": "stream",
     "text": [
      "False\n",
      "True\n"
     ]
    }
   ],
   "source": [
    "\"\"\"\n",
    "47. Check if a string contains any special characters.\n",
    "\"\"\"\n",
    "\n",
    "def check_special(s):\n",
    "    for i in s:\n",
    "        if not i.isalnum() and not i.isspace():\n",
    "            return True\n",
    "    return False\n",
    "\n",
    "s = \"checking special characters \"\n",
    "s2 = \"vnfskj#$%jdfk\"\n",
    "\n",
    "print(check_special(s))\n",
    "print(check_special(s2))\n"
   ]
  },
  {
   "cell_type": "code",
   "execution_count": 6,
   "id": "adc45ac0-073c-4a80-b04c-29e51c8cc584",
   "metadata": {},
   "outputs": [
    {
     "name": "stdout",
     "output_type": "stream",
     "text": [
      "removing nth from string\n"
     ]
    }
   ],
   "source": [
    "\"\"\"\n",
    "48. Remove the nth word from a string.\n",
    "\"\"\"\n",
    "def remove_word(string,position):\n",
    "    \n",
    "    l = string.split()\n",
    "    if position <= len(l) and position >= 0:\n",
    "        l.pop(position-1)\n",
    "        ans = \" \".join(l)\n",
    "        return ans\n",
    "    else:\n",
    "        return string\n",
    "s = \"removing nth word from string\"\n",
    "\n",
    "new_string = remove_word(s,3)\n",
    "print(new_string)\n",
    "\n"
   ]
  },
  {
   "cell_type": "code",
   "execution_count": 5,
   "id": "e29e5157-bac0-402a-bc36-7ea6f6a59b13",
   "metadata": {},
   "outputs": [
    {
     "name": "stdout",
     "output_type": "stream",
     "text": [
      "inserting new_word a word at nth position\n"
     ]
    }
   ],
   "source": [
    "\"\"\"\n",
    "49. Insert a word at the nth position in a string.\n",
    "\"\"\"\n",
    "\n",
    "def insert_word(string,position,new_word):\n",
    "    \n",
    "    l = string.split()\n",
    "    \n",
    "    l.insert(position-1,new_word)\n",
    "    ans = \" \".join(l)\n",
    "    return ans\n",
    "s = \"inserting a word at nth position\"\n",
    "new_string  = insert_word(s,2,\"new_word\")\n",
    "print(new_string)\n"
   ]
  },
  {
   "cell_type": "code",
   "execution_count": 8,
   "id": "118c0d66-f75b-4be6-82e5-d6ace29f4104",
   "metadata": {},
   "outputs": [
    {
     "name": "stdout",
     "output_type": "stream",
     "text": [
      "[['1', 'John', 'Doe'], ['2', 'Jane', 'Smith'], ['3', 'Bob', 'Johnson']]\n"
     ]
    }
   ],
   "source": [
    "\"\"\"\n",
    "50. Convert a CSV string to a list of lists.\n",
    "\"\"\"\n",
    "\n",
    "csv_string = \"1,John,Doe\\n2,Jane,Smith\\n3,Bob,Johnson\"\n",
    "\n",
    "l = csv_string.split('\\n')\n",
    "\n",
    "ll = [i.split(',') for i in l]\n",
    "\n",
    "print(ll)\n"
   ]
  },
  {
   "cell_type": "code",
   "execution_count": null,
   "id": "4e1e3370-11b5-41c7-8ee1-8b0da565889a",
   "metadata": {},
   "outputs": [],
   "source": []
  },
  {
   "cell_type": "code",
   "execution_count": null,
   "id": "3cf1ee4e-5cce-418b-998e-618b10bb68dd",
   "metadata": {},
   "outputs": [],
   "source": [
    "\"\"\"\n",
    "List Based Practice Problem :\n",
    "\"\"\""
   ]
  },
  {
   "cell_type": "code",
   "execution_count": 1,
   "id": "03b73a71-12e8-4cb6-b9f6-692aacbcb0ba",
   "metadata": {},
   "outputs": [
    {
     "name": "stdout",
     "output_type": "stream",
     "text": [
      "[1, 2, 3, 4, 5, 6, 7, 8, 9, 10]\n"
     ]
    }
   ],
   "source": [
    "\"\"\"\n",
    "1. Create a list with integers from 1 to 10.\n",
    "\"\"\"\n",
    "l = [i for i in range(1,11)]\n",
    "print(l)"
   ]
  },
  {
   "cell_type": "code",
   "execution_count": 4,
   "id": "0532f58e-f080-4ab7-b6ac-6b4668ced406",
   "metadata": {},
   "outputs": [
    {
     "name": "stdout",
     "output_type": "stream",
     "text": [
      "Length of the given list is :  9\n"
     ]
    }
   ],
   "source": [
    "\"\"\"\n",
    "2. Find the length of a list without using the `len()` function.\n",
    "\"\"\"\n",
    "l = [3,4,2,5,6,6,8,9,6]\n",
    "length = 0\n",
    "for i in l:\n",
    "    length+=1;\n",
    "\n",
    "print(\"Length of the given list is : \",length)"
   ]
  },
  {
   "cell_type": "code",
   "execution_count": 5,
   "id": "2a2441e2-d15b-4fa6-8aac-49a79490f1c2",
   "metadata": {},
   "outputs": [
    {
     "name": "stdout",
     "output_type": "stream",
     "text": [
      "[3, 53, 2, 52, 0]\n"
     ]
    }
   ],
   "source": [
    "\"\"\"\n",
    "3. Append an element to the end of a list.\n",
    "\"\"\"\n",
    "\n",
    "l = [3,53,2,52]\n",
    "l.append(0)\n",
    "\n",
    "print(l)"
   ]
  },
  {
   "cell_type": "code",
   "execution_count": 7,
   "id": "60984928-3419-4b21-8533-312ad89d60fe",
   "metadata": {},
   "outputs": [
    {
     "name": "stdout",
     "output_type": "stream",
     "text": [
      "[2, 4, 5, 1, 26, 7]\n"
     ]
    }
   ],
   "source": [
    "\"\"\"\n",
    "4. Insert an element at a specific index in a list.\n",
    "\"\"\"\n",
    "\n",
    "l = [2,4,5,26,7]\n",
    "\n",
    "l.insert(3,1) #3 is index and 1 is element to be inserted\n",
    "print(l)"
   ]
  },
  {
   "cell_type": "code",
   "execution_count": 8,
   "id": "b4b57040-09ff-446a-a830-b2a5838f7033",
   "metadata": {},
   "outputs": [
    {
     "name": "stdout",
     "output_type": "stream",
     "text": [
      "[23, 52, 67, 4]\n"
     ]
    }
   ],
   "source": [
    "\"\"\"\n",
    "5. Remove an element from a list by its value.\n",
    "\"\"\"\n",
    "\n",
    "l = [23,52,42,67,4]\n",
    "\n",
    "l.remove(42)\n",
    "\n",
    "print(l)\n"
   ]
  },
  {
   "cell_type": "code",
   "execution_count": 9,
   "id": "bf9f2aed-7857-44aa-a557-7a0cc5574b87",
   "metadata": {},
   "outputs": [
    {
     "name": "stdout",
     "output_type": "stream",
     "text": [
      "[34, 2, 4, 5]\n"
     ]
    }
   ],
   "source": [
    "\"\"\"\n",
    "6. Remove an element from a list by its index.\n",
    "\"\"\"\n",
    "\n",
    "l = [34,2,1,4,5]\n",
    "l.pop(2)\n",
    "\n",
    "print(l)"
   ]
  },
  {
   "cell_type": "code",
   "execution_count": 11,
   "id": "49cb1a1d-b5d9-4269-995a-4dba669d4909",
   "metadata": {},
   "outputs": [
    {
     "name": "stdout",
     "output_type": "stream",
     "text": [
      "True\n",
      "False\n"
     ]
    }
   ],
   "source": [
    "\"\"\"\n",
    "7. Check if an element exists in a list.\n",
    "\"\"\"\n",
    "\n",
    "l = [33,5,43,4,56,6]\n",
    "\n",
    "print(33 in l)\n",
    "print(77 in l)"
   ]
  },
  {
   "cell_type": "code",
   "execution_count": 12,
   "id": "7203e243-39d2-49a8-8550-d665d5df8088",
   "metadata": {},
   "outputs": [
    {
     "name": "stdout",
     "output_type": "stream",
     "text": [
      "2 found at index  4\n"
     ]
    }
   ],
   "source": [
    "\"\"\"\n",
    "8. Find the index of the first occurrence of an element in a list.\n",
    "\"\"\"\n",
    "\n",
    "l = [23,52,30,45,2,34,12,31]\n",
    "\n",
    "for i in range(len(l)):\n",
    "    if l[i] == 2:\n",
    "        print(\"2 found at index \",i)\n",
    "        break\n",
    "        \n",
    "        "
   ]
  },
  {
   "cell_type": "code",
   "execution_count": 13,
   "id": "27f1e68c-5290-4e6a-b94f-4ef14abaa7cf",
   "metadata": {},
   "outputs": [
    {
     "name": "stdout",
     "output_type": "stream",
     "text": [
      "3\n"
     ]
    }
   ],
   "source": [
    "\"\"\"\n",
    "9. Count the occurrences of an element in a list.\n",
    "\"\"\"\n",
    "\n",
    "l = [2,4,5,6,3,32,5,9,2,4,2,6,7,7,32]\n",
    "\n",
    "print(l.count(2))"
   ]
  },
  {
   "cell_type": "code",
   "execution_count": 14,
   "id": "d589f869-6d14-4ff9-8c76-8ab56ff983ee",
   "metadata": {},
   "outputs": [
    {
     "name": "stdout",
     "output_type": "stream",
     "text": [
      "[31, 12, 34, 2, 45, 30, 52, 23]\n"
     ]
    }
   ],
   "source": [
    "\"\"\"\n",
    "10. Reverse the order of elements in a list.\n",
    "\"\"\"\n",
    "\n",
    "l = [23,52,30,45,2,34,12,31]\n",
    "\n",
    "l.reverse()\n",
    "print(l)"
   ]
  },
  {
   "cell_type": "code",
   "execution_count": 15,
   "id": "7cdac12a-c213-4830-bd90-2aeacc784064",
   "metadata": {},
   "outputs": [
    {
     "name": "stdout",
     "output_type": "stream",
     "text": [
      "[2, 12, 23, 30, 31, 34, 45, 52]\n"
     ]
    }
   ],
   "source": [
    "\"\"\"\n",
    "11. Sort a list in ascending order.\n",
    "\"\"\"\n",
    "\n",
    "l = [23,52,30,45,2,34,12,31]\n",
    "\n",
    "l.sort()\n",
    "print(l)"
   ]
  },
  {
   "cell_type": "code",
   "execution_count": 17,
   "id": "ff988f9b-9d02-474f-b6f1-d498b9dcac47",
   "metadata": {},
   "outputs": [
    {
     "name": "stdout",
     "output_type": "stream",
     "text": [
      "[52, 45, 34, 31, 30, 23, 12, 2]\n"
     ]
    }
   ],
   "source": [
    "\"\"\"\n",
    "12. Sort a list in descending order.\n",
    "\"\"\"\n",
    "\n",
    "l = [23,52,30,45,2,34,12,31]\n",
    "l.sort(reverse = True)\n",
    "print(l)"
   ]
  },
  {
   "cell_type": "code",
   "execution_count": 21,
   "id": "513c2fb8-ac82-4a13-94ee-626b2aa00b38",
   "metadata": {},
   "outputs": [
    {
     "name": "stdout",
     "output_type": "stream",
     "text": [
      "[2, 4, 6, 8, 10, 12, 14, 16, 18, 20]\n"
     ]
    }
   ],
   "source": [
    "\"\"\"\n",
    "13. Create a list of even numbers from 1 to 20.\n",
    "\"\"\"\n",
    "\n",
    "l = [i  for i in range(1,21) if i%2 == 0]\n",
    "print(l)"
   ]
  },
  {
   "cell_type": "code",
   "execution_count": 23,
   "id": "f6a06504-84c0-4359-a104-b1eb1a967eae",
   "metadata": {},
   "outputs": [
    {
     "name": "stdout",
     "output_type": "stream",
     "text": [
      "[1, 3, 5, 7, 9, 11, 13, 15, 17, 19]\n"
     ]
    }
   ],
   "source": [
    "\"\"\"\n",
    "14. Create a list of odd numbers from 1 to 20.\n",
    "\"\"\"\n",
    "\n",
    "l = [ i for i in range(1,21) if i %2 != 0]\n",
    "\n",
    "print(l)"
   ]
  },
  {
   "cell_type": "code",
   "execution_count": 24,
   "id": "453c474c-974f-42be-be4b-f41682245056",
   "metadata": {},
   "outputs": [
    {
     "name": "stdout",
     "output_type": "stream",
     "text": [
      "229\n"
     ]
    }
   ],
   "source": [
    "\"\"\"\n",
    "15. Find the sum of all elements in a list.\n",
    "\"\"\"\n",
    "l = [23,52,30,45,2,34,12,31]\n",
    "\n",
    "s = sum(l)\n",
    "print(s)\n"
   ]
  },
  {
   "cell_type": "code",
   "execution_count": 25,
   "id": "24907b66-98b6-4082-9780-b2deb86decba",
   "metadata": {},
   "outputs": [
    {
     "name": "stdout",
     "output_type": "stream",
     "text": [
      "52\n"
     ]
    }
   ],
   "source": [
    "\"\"\"\n",
    "16. Find the maximum value in a list.\n",
    "\"\"\"\n",
    "\n",
    "l = [23,52,30,45,2,34,12,31]\n",
    "\n",
    "print(max(l))"
   ]
  },
  {
   "cell_type": "code",
   "execution_count": 26,
   "id": "4d7252f8-633b-4a88-909a-5129f29f7247",
   "metadata": {},
   "outputs": [
    {
     "name": "stdout",
     "output_type": "stream",
     "text": [
      "2\n"
     ]
    }
   ],
   "source": [
    "\"\"\"\n",
    "17. Find the minimum value in a list.\n",
    "\"\"\"\n",
    "\n",
    "l = [23,52,30,45,2,34,12,31]\n",
    "print(min(l))"
   ]
  },
  {
   "cell_type": "code",
   "execution_count": 27,
   "id": "eed1385b-f7d3-449d-8bba-8f12367845dc",
   "metadata": {},
   "outputs": [
    {
     "name": "stdout",
     "output_type": "stream",
     "text": [
      "[1, 4, 9, 16, 25, 36, 49, 64, 81, 100]\n"
     ]
    }
   ],
   "source": [
    "\"\"\"\n",
    "18. Create a list of squares of numbers from 1 to 10.\n",
    "\"\"\"\n",
    "\n",
    "l = [i**2 for i in range(1,11)]\n",
    "print(l)"
   ]
  },
  {
   "cell_type": "code",
   "execution_count": 29,
   "id": "2b38baf2-7d8b-4558-a60b-fd51dc15e748",
   "metadata": {},
   "outputs": [
    {
     "name": "stdout",
     "output_type": "stream",
     "text": [
      "[20, 6, 27, 32, 27, 32, 7, 37, 7, 25, 44]\n"
     ]
    }
   ],
   "source": [
    "\"\"\"\n",
    "19. Create a list of random numbers.\n",
    "\"\"\"\n",
    "\n",
    "import random\n",
    "l = [random.randint(1,50) for i in range(11)]\n",
    "print(l)"
   ]
  },
  {
   "cell_type": "code",
   "execution_count": 30,
   "id": "566ed133-a047-4fce-be64-6f7219b65b55",
   "metadata": {},
   "outputs": [
    {
     "name": "stdout",
     "output_type": "stream",
     "text": [
      "original list :  [2, 4, 5, 6, 3, 32, 5, 9, 2, 4, 2, 6, 7, 7, 32]\n",
      "Modified list :  [32, 2, 3, 4, 5, 6, 7, 9]\n"
     ]
    }
   ],
   "source": [
    "\"\"\"\n",
    "20. Remove duplicates from a list.\n",
    "\"\"\"\n",
    "\n",
    "l = [2,4,5,6,3,32,5,9,2,4,2,6,7,7,32]\n",
    "\n",
    "s = set(l)\n",
    "l1 = list(s)\n",
    "print(\"original list : \",l)\n",
    "print(\"Modified list : \",l1)"
   ]
  },
  {
   "cell_type": "code",
   "execution_count": 33,
   "id": "65a19494-580d-498b-9ca3-d799edd254e1",
   "metadata": {},
   "outputs": [
    {
     "name": "stdout",
     "output_type": "stream",
     "text": [
      "[2, 3, 4]\n"
     ]
    }
   ],
   "source": [
    "\"\"\"\n",
    "21. Find the common elements between two lists.\n",
    "\"\"\"\n",
    "l1 = [32, 2, 3, 4, 5, 6, 7, 9]\n",
    "l2 = [23,52,30,4,2,34,12,3]\n",
    "\n",
    "common_list = list(set([ i for i in l1 if i in l2]))\n",
    "print(common_list)"
   ]
  },
  {
   "cell_type": "code",
   "execution_count": 34,
   "id": "1ea428fb-9ef6-4c5f-9c88-94edbd596c89",
   "metadata": {},
   "outputs": [
    {
     "name": "stdout",
     "output_type": "stream",
     "text": [
      "[32, 5, 6, 7, 9]\n"
     ]
    }
   ],
   "source": [
    "\"\"\"\n",
    "22. Find the difference between two lists.\n",
    "\"\"\"\n",
    "\n",
    "l1 = [32, 2, 3, 4, 5, 6, 7, 9]\n",
    "l2 = [23,52,30,4,2,34,12,3]\n",
    "\n",
    "diff = list(set(l1) - set(l2))\n",
    "print(diff)"
   ]
  },
  {
   "cell_type": "code",
   "execution_count": 35,
   "id": "29703a2a-4127-4a0c-a3eb-3a463ea7c83a",
   "metadata": {},
   "outputs": [
    {
     "name": "stdout",
     "output_type": "stream",
     "text": [
      "[32, 2, 3, 4, 5, 6, 7, 9, 23, 52, 30, 4, 2, 34, 12, 3]\n"
     ]
    }
   ],
   "source": [
    "\"\"\"\n",
    "23. Merge two lists.\n",
    "\"\"\"\n",
    "l1 = [32, 2, 3, 4, 5, 6, 7, 9]\n",
    "l2 = [23,52,30,4,2,34,12,3]\n",
    "\n",
    "l = l1+l2\n",
    "print(l)\n"
   ]
  },
  {
   "cell_type": "code",
   "execution_count": 36,
   "id": "b58269c6-7f86-4963-990e-cbb7567c614c",
   "metadata": {},
   "outputs": [
    {
     "name": "stdout",
     "output_type": "stream",
     "text": [
      "[46, 104, 60, 8, 4, 68, 24, 6]\n"
     ]
    }
   ],
   "source": [
    "\"\"\"\n",
    "24. Multiply all elements in a list by 2.\n",
    "\"\"\"\n",
    "\n",
    "l2 = [23,52,30,4,2,34,12,3]\n",
    "l2 = [i *2 for i in l2]\n",
    "print(l2)\n"
   ]
  },
  {
   "cell_type": "code",
   "execution_count": 37,
   "id": "600fb698-6d17-4f6f-8619-c2851e09b106",
   "metadata": {},
   "outputs": [
    {
     "name": "stdout",
     "output_type": "stream",
     "text": [
      "[52, 30, 4, 2, 34, 12]\n"
     ]
    }
   ],
   "source": [
    "\n",
    "\"\"\"\n",
    "25. Filter out all even numbers from a list.\n",
    "\"\"\"\n",
    "\n",
    "l2 = [23,52,30,4,2,34,12,3]\n",
    "\n",
    "l = [i for i in l2 if i %2 == 0]\n",
    "print(l)"
   ]
  },
  {
   "cell_type": "code",
   "execution_count": 38,
   "id": "d2a9239d-eae8-452b-bd99-eb865af118e1",
   "metadata": {},
   "outputs": [
    {
     "name": "stdout",
     "output_type": "stream",
     "text": [
      "[1, 2, 3, 4, 5]\n"
     ]
    }
   ],
   "source": [
    "\"\"\"\n",
    "26. Convert a list of strings to a list of integers.\n",
    "\"\"\"\n",
    "\n",
    "string_list = [\"1\", \"2\", \"3\", \"4\", \"5\"]\n",
    "integer_list = [ int(i) for i in string_list]\n",
    "print(integer_list)"
   ]
  },
  {
   "cell_type": "code",
   "execution_count": 1,
   "id": "4f064513-037c-4c9f-8776-7f7f4869d8ef",
   "metadata": {},
   "outputs": [
    {
     "name": "stdout",
     "output_type": "stream",
     "text": [
      "['23', '1', '42', '45', '23']\n"
     ]
    }
   ],
   "source": [
    "\"\"\"\n",
    "27. Convert a list of integers to a list of strings.\n",
    "\"\"\"\n",
    "\n",
    "int_list = [23,1,42,45,23];\n",
    "string_list = [str(i) for i in int_list]\n",
    "print(string_list)"
   ]
  },
  {
   "cell_type": "code",
   "execution_count": 6,
   "id": "38d76efd-45b1-4378-9adf-b64593253c8d",
   "metadata": {},
   "outputs": [
    {
     "name": "stdout",
     "output_type": "stream",
     "text": [
      "[1, 2, 3, 4, 5, 6, 7, 8]\n"
     ]
    }
   ],
   "source": [
    "\"\"\"\n",
    "28. Flatten a nested list.\n",
    "\"\"\"\n",
    "\n",
    "def flat(nested,flat_list=[]):\n",
    "    for i in nested:\n",
    "        if isinstance(i,list):\n",
    "            flat(i)\n",
    "        else:\n",
    "            flat_list.append(i)\n",
    "    return flat_list\n",
    "\n",
    "\n",
    "nested_list = [1, [2, [3, 4], 5], 6, [7, 8]]\n",
    "flat_list = flat(nested_list)\n",
    "print(flat_list)\n"
   ]
  },
  {
   "cell_type": "code",
   "execution_count": 14,
   "id": "5b18bbce-a036-41a5-85c2-60a4a6dd4b0e",
   "metadata": {},
   "outputs": [
    {
     "name": "stdout",
     "output_type": "stream",
     "text": [
      "[0, 1, 1, 2, 3, 5, 8, 13, 21, 34]\n"
     ]
    }
   ],
   "source": [
    "\"\"\"\n",
    "29. Create a list of the first 10 Fibonacci numbers.\n",
    "\"\"\"\n",
    "\n",
    "a,b = 0,1\n",
    "fib = [];\n",
    "for i in range(10):\n",
    "    fib.append(a)\n",
    "    c= a+b\n",
    "    a=b\n",
    "    b=c\n",
    "print(fib)\n",
    "\n",
    "    "
   ]
  },
  {
   "cell_type": "code",
   "execution_count": 17,
   "id": "cf6ea356-73ed-4fe3-8f6b-198c5e137a51",
   "metadata": {},
   "outputs": [
    {
     "name": "stdout",
     "output_type": "stream",
     "text": [
      "True\n",
      "False\n"
     ]
    }
   ],
   "source": [
    "\"\"\"\n",
    "30. Check if a list is sorted.\n",
    "\"\"\"\n",
    "\n",
    "def check_sorted(l):\n",
    "    for i in range(1,len(l)):\n",
    "        if l[i-1] > l[i]:\n",
    "            return False;\n",
    "    return True\n",
    "\n",
    "l1 = [3,4,5,6,7,8]\n",
    "l2 = [3,5,73,5,24,6]\n",
    "\n",
    "print(check_sorted(l1))\n",
    "print(check_sorted(l2))\n",
    "        "
   ]
  },
  {
   "cell_type": "code",
   "execution_count": 25,
   "id": "d94ae936-d412-4442-a54c-adf01a99948a",
   "metadata": {},
   "outputs": [
    {
     "name": "stdout",
     "output_type": "stream",
     "text": [
      "[24, 6, 3, 5, 73, 5]\n"
     ]
    }
   ],
   "source": [
    "\"\"\"\n",
    "31. Rotate a list to the left by `n` positions.\n",
    "\"\"\"\n",
    "\n",
    "def rotate(l,pos):\n",
    "    shift = pos%len(l)\n",
    "\n",
    "    rotated_array = l[shift:] + l[:shift]\n",
    "    return rotated_array\n",
    "\n",
    "l = [3,5,73,5,24,6]\n",
    "\n",
    "rotated = rotate(l,4)\n",
    "print(rotated)\n"
   ]
  },
  {
   "cell_type": "code",
   "execution_count": 35,
   "id": "026693c0-b92b-4795-82e0-884083f6cd0f",
   "metadata": {},
   "outputs": [
    {
     "name": "stdout",
     "output_type": "stream",
     "text": [
      "[73, 5, 24, 6, 3, 5]\n"
     ]
    }
   ],
   "source": [
    "\"\"\"\n",
    "32. Rotate a list to the right by `n` positions.\n",
    "\"\"\"\n",
    "\n",
    "def rotate_right(l,pos):\n",
    "    shift = pos%len(l)\n",
    "    rotated = l[-shift:] + l[:-shift]\n",
    "    return rotated\n",
    "\n",
    "l = [3,5,73,5,24,6]\n",
    "\n",
    "rotated = rotate_right(l,4)\n",
    "print(rotated)\n"
   ]
  },
  {
   "cell_type": "code",
   "execution_count": 42,
   "id": "3a08b39b-04fe-4e46-a07d-8b0cb60da6ba",
   "metadata": {},
   "outputs": [
    {
     "name": "stdout",
     "output_type": "stream",
     "text": [
      "[2, 3, 4, 5, 7, 11, 13, 17, 19, 23, 29, 31, 37, 41, 43, 47, 53, 59, 61, 67, 71, 73, 79, 83, 89, 97, 101, 103, 107, 109, 113, 127, 131, 137, 139, 149, 151, 157, 163, 167, 173, 179, 181, 191, 193, 197, 199, 211, 223, 227]\n",
      "50\n"
     ]
    }
   ],
   "source": [
    "\"\"\"\n",
    "33. Create a list of prime numbers up to 50.\n",
    "\"\"\"\n",
    "\n",
    "count = 0;\n",
    "num = 2\n",
    "prime =[]\n",
    "while count <50:\n",
    "    for i in range(2,num//2):\n",
    "        if num%i == 0:\n",
    "            num+=1\n",
    "            break\n",
    "    else:\n",
    "        prime.append(num)\n",
    "        num+=1\n",
    "        count+=1\n",
    "    \n",
    "    \n",
    "print(prime)\n",
    "print(len(prime))\n",
    "    "
   ]
  },
  {
   "cell_type": "code",
   "execution_count": 45,
   "id": "4321d246-7c94-44f8-a6e6-17ed5f9c5be5",
   "metadata": {},
   "outputs": [
    {
     "name": "stdout",
     "output_type": "stream",
     "text": [
      "[[2, 3, 4], [6, 2, 5], [3, 2, 345], [2, 2345, 42], [34, 3, 42], [1]]\n"
     ]
    }
   ],
   "source": [
    "\"\"\"\n",
    "34. Split a list into chunks of size `n`.\n",
    "\"\"\"\n",
    "def split(l,n):\n",
    "    chunks =[]\n",
    "    for i in range(0,len(l),n):\n",
    "        chunks.append(l[i:i+n])\n",
    "    return chunks\n",
    "\n",
    "l = [2,3,4,6,2,5,3,2,345,2,2345,42,34,3,42,1]\n",
    "\n",
    "chunks = split(l,3)\n",
    "print(chunks)"
   ]
  },
  {
   "cell_type": "code",
   "execution_count": 49,
   "id": "35f4a7d9-15b4-4998-a137-5d1893754862",
   "metadata": {},
   "outputs": [
    {
     "name": "stdout",
     "output_type": "stream",
     "text": [
      "second largest element is  534\n"
     ]
    }
   ],
   "source": [
    "\"\"\"\n",
    "35. Find the second largest number in a list.\n",
    "\"\"\"\n",
    "\n",
    "l = [3,53,2,2441,534,1,523,12]\n",
    "l.sort()\n",
    "print(\"second largest element is \",l[-2])"
   ]
  },
  {
   "cell_type": "code",
   "execution_count": 1,
   "id": "b6b87997-59e9-4eb7-a38d-51157add142a",
   "metadata": {},
   "outputs": [
    {
     "name": "stdout",
     "output_type": "stream",
     "text": [
      "[9, 16, 25, 1024, 3136, 64]\n"
     ]
    }
   ],
   "source": [
    "\"\"\"\n",
    "36. Replace every element in a list with its square.\n",
    "\"\"\"\n",
    "\n",
    "l = [3,4,5,32,56,8]\n",
    "\n",
    "l =[ i**2 for i in l]\n",
    "print(l)"
   ]
  },
  {
   "cell_type": "code",
   "execution_count": 2,
   "id": "bcbf9391-8f65-4bef-b891-a7e2771389c7",
   "metadata": {},
   "outputs": [
    {
     "name": "stdout",
     "output_type": "stream",
     "text": [
      "{3: 0, 4: 1, 5: 2, 32: 3, 56: 4, 8: 5}\n"
     ]
    }
   ],
   "source": [
    "\"\"\"\n",
    "37. Convert a list to a dictionary where list elements become keys and their\n",
    "indices become values.\n",
    "\"\"\"\n",
    "\n",
    "l = [3,4,5,32,56,8]\n",
    "dic = {l[i] : i for i in range(len(l))}\n",
    "print(dic)"
   ]
  },
  {
   "cell_type": "code",
   "execution_count": 6,
   "id": "6a1645a0-1a04-47d4-a306-77566adc106a",
   "metadata": {},
   "outputs": [
    {
     "name": "stdout",
     "output_type": "stream",
     "text": [
      "Original List :  [3, 4, 5, 32, 56, 8]\n",
      "Shuffled list :  [5, 8, 3, 56, 4, 32]\n"
     ]
    }
   ],
   "source": [
    "\"\"\"\n",
    "38. Shuffle the elements of a list randomly.\n",
    "\"\"\"\n",
    "import random\n",
    "l = [3,4,5,32,56,8]\n",
    "print(\"Original List : \",l)\n",
    "random.shuffle(l)\n",
    "print(\"Shuffled list : \",l)"
   ]
  },
  {
   "cell_type": "code",
   "execution_count": 7,
   "id": "a47d3d56-3812-4648-b3c1-219fb6b41566",
   "metadata": {},
   "outputs": [
    {
     "name": "stdout",
     "output_type": "stream",
     "text": [
      "[1, 1, 2, 6, 24, 120, 720, 5040, 40320, 362880, 3628800]\n"
     ]
    }
   ],
   "source": [
    "\"\"\"\n",
    "39. Create a list of the first 10 factorial numbers.\n",
    "\"\"\"\n",
    "\n",
    "def fact(n):\n",
    "    if n<=1:\n",
    "        return 1;\n",
    "    return n*fact(n-1)\n",
    "\n",
    "factorial = [ fact(i) for i in range(11)] # assuming first factorial to be (0!).\n",
    "print(factorial)"
   ]
  },
  {
   "cell_type": "code",
   "execution_count": 10,
   "id": "e1166a5c-1459-478f-9074-9b3a39865eac",
   "metadata": {},
   "outputs": [
    {
     "name": "stdout",
     "output_type": "stream",
     "text": [
      "True\n"
     ]
    }
   ],
   "source": [
    "\"\"\"\n",
    "40. Check if two lists have at least one element in common.\n",
    "\"\"\"\n",
    "\n",
    "l1 = [4,2,5,2,5,668,4,3]\n",
    "l2 = [6,32,5,2,5,5325,334]\n",
    "\n",
    "s1 = set(l1).intersection(set(l2))\n",
    "if len(s1)>=1:\n",
    "    print(True)\n",
    "else:\n",
    "    print(False)"
   ]
  },
  {
   "cell_type": "code",
   "execution_count": 11,
   "id": "13b4ab02-6723-45f0-95dd-a17317a3841f",
   "metadata": {},
   "outputs": [
    {
     "name": "stdout",
     "output_type": "stream",
     "text": [
      "[]\n"
     ]
    }
   ],
   "source": [
    "\"\"\"\n",
    "41. Remove all elements from a list.\n",
    "\"\"\"\n",
    "\n",
    "l1 = [4,2,5,2,5,668,4,3]\n",
    "l1.clear()\n",
    "print(l1)"
   ]
  },
  {
   "cell_type": "code",
   "execution_count": 13,
   "id": "15e75b86-7272-4c5b-a293-589273a0a6f6",
   "metadata": {},
   "outputs": [
    {
     "name": "stdout",
     "output_type": "stream",
     "text": [
      "[4, 2, 5, 0, 5, 0, 4, 0]\n"
     ]
    }
   ],
   "source": [
    "\"\"\"\n",
    "42. Replace negative numbers in a list with 0.\n",
    "\"\"\"\n",
    "\n",
    "l = [4,2,5,-2,5,-668,4,-3]\n",
    "l = [ 0 if i<0 else i for i in l]\n",
    "print(l)"
   ]
  },
  {
   "cell_type": "code",
   "execution_count": 14,
   "id": "fe21aed0-1171-40c4-a239-6e175a1571e8",
   "metadata": {},
   "outputs": [
    {
     "name": "stdout",
     "output_type": "stream",
     "text": [
      "['Convert', 'a', 'string', 'into', 'a', 'list', 'of', 'words']\n"
     ]
    }
   ],
   "source": [
    "\"\"\"\n",
    "43. Convert a string into a list of words.\n",
    "\"\"\"\n",
    "\n",
    "s = \"Convert a string into a list of words\"\n",
    "l = s.split()\n",
    "print(l)"
   ]
  },
  {
   "cell_type": "code",
   "execution_count": 16,
   "id": "011a48d2-05c5-4c5d-989f-d010f721ebfe",
   "metadata": {},
   "outputs": [
    {
     "name": "stdout",
     "output_type": "stream",
     "text": [
      "Convert a string into a list of words\n"
     ]
    }
   ],
   "source": [
    "\"\"\"\n",
    "44. Convert a list of words into a string.\n",
    "\"\"\"\n",
    "\n",
    "l = ['Convert', 'a', 'string', 'into', 'a', 'list', 'of', 'words']\n",
    "s =\" \".join(l)\n",
    "print(s)"
   ]
  },
  {
   "cell_type": "code",
   "execution_count": 17,
   "id": "b6bc2b35-0072-4ee3-8703-320168dd46ce",
   "metadata": {},
   "outputs": [
    {
     "name": "stdout",
     "output_type": "stream",
     "text": [
      "[2, 4, 8, 16, 32]\n"
     ]
    }
   ],
   "source": [
    "\"\"\"\n",
    "45. Create a list of the first `n` powers of 2.\n",
    "\"\"\"\n",
    "\n",
    "def power_of_two(n):\n",
    "    return [2**i for i in range(1,n+1)]\n",
    "\n",
    "print(power_of_two(5))"
   ]
  },
  {
   "cell_type": "code",
   "execution_count": 20,
   "id": "cf72ca61-aed4-41cb-b9dd-4b5c840e23ab",
   "metadata": {},
   "outputs": [
    {
     "name": "stdout",
     "output_type": "stream",
     "text": [
      "Longest string is :  Convert\n"
     ]
    }
   ],
   "source": [
    "\"\"\"\n",
    "46. Find the longest string in a list of strings.\n",
    "\"\"\"\n",
    "l = ['Convert', 'a', 'string', 'into', 'a', 'list', 'of', 'words']\n",
    "\n",
    "longest = l[0];\n",
    "for i in l:\n",
    "    if len(i) > len(longest):\n",
    "        longest = i\n",
    "        \n",
    "print(\"Longest string is : \",longest)\n"
   ]
  },
  {
   "cell_type": "code",
   "execution_count": 21,
   "id": "346aa543-2caa-49eb-bb25-996d0a39a58a",
   "metadata": {},
   "outputs": [
    {
     "name": "stdout",
     "output_type": "stream",
     "text": [
      "Longest string is :  a\n"
     ]
    }
   ],
   "source": [
    "\"\"\"\n",
    "47. Find the shortest string in a list of strings.\n",
    "\"\"\"\n",
    "\n",
    "l = ['Convert', 'a', 'string', 'into', 'a', 'list', 'of', 'words']\n",
    "\n",
    "shortest = l[0];\n",
    "for i in l:\n",
    "    if len(i) < len(shortest):\n",
    "        shortest = i\n",
    "        \n",
    "print(\"Longest string is : \",shortest)"
   ]
  },
  {
   "cell_type": "code",
   "execution_count": 23,
   "id": "1d3cebec-b413-4aa7-95c7-b7737b635439",
   "metadata": {},
   "outputs": [
    {
     "name": "stdout",
     "output_type": "stream",
     "text": [
      "[1.0, 3.0, 6.0, 10.0, 15.0, 21.0, 28.0, 36.0, 45.0, 55.0]\n"
     ]
    }
   ],
   "source": [
    "\"\"\"\n",
    "48. Create a list of the first `n` triangular numbers.\n",
    "\"\"\"\n",
    "\n",
    "def triangular_number(n):\n",
    "    return [i*(i+1)/2 for i in range(1,n+1)]\n",
    "            \n",
    "print(triangular_number(10))"
   ]
  },
  {
   "cell_type": "code",
   "execution_count": 24,
   "id": "4269ee45-0208-4568-8048-5b1d205d0c96",
   "metadata": {},
   "outputs": [
    {
     "name": "stdout",
     "output_type": "stream",
     "text": [
      "False\n",
      "True\n"
     ]
    }
   ],
   "source": [
    "\"\"\"\n",
    "49. Check if a list contains another list as a subsequence.\n",
    "\"\"\"\n",
    "\n",
    "def check(l):\n",
    "    for i in l:\n",
    "        if isinstance(i,list):\n",
    "            return True;\n",
    "    return False;\n",
    "\n",
    "l = [23,4,5,324,46,34]\n",
    "l2 = [3,4,252,[4,53,3],42,45,[6,4]]\n",
    "\n",
    "print(check(l))\n",
    "print(check(l2))"
   ]
  },
  {
   "cell_type": "code",
   "execution_count": 25,
   "id": "e51c2f2d-b4a9-4e43-8278-7b67e01c0247",
   "metadata": {},
   "outputs": [
    {
     "name": "stdout",
     "output_type": "stream",
     "text": [
      "[2, 4, 32, 7, 3, 56]\n"
     ]
    }
   ],
   "source": [
    "\"\"\"\n",
    "50. Swap two elements in a list by their indices.\n",
    "\"\"\"\n",
    "\n",
    "def swap(l,i,j):\n",
    "    temp = l[i];\n",
    "    l[i] = l[j];\n",
    "    l[j] = temp;\n",
    "    return l\n",
    "\n",
    "l = [2,4,56,7,3,32]\n",
    "\n",
    "swap(l,2,5)\n",
    "\n",
    "print(l)"
   ]
  },
  {
   "cell_type": "code",
   "execution_count": 26,
   "id": "f0b6d8af-c7c3-4cfc-8ad1-510d2ec229ad",
   "metadata": {},
   "outputs": [
    {
     "data": {
      "text/plain": [
       "'\\n\\n\\nTuple Based Practice Problem :\\n\\n\\n\\n'"
      ]
     },
     "execution_count": 26,
     "metadata": {},
     "output_type": "execute_result"
    }
   ],
   "source": [
    "\"\"\"\n",
    "\n",
    "\n",
    "Tuple Based Practice Problem :\n",
    "\n",
    "\n",
    "\n",
    "\"\"\"\n"
   ]
  },
  {
   "cell_type": "code",
   "execution_count": 28,
   "id": "a42cb17c-c15b-4503-ad35-6a46c9274879",
   "metadata": {},
   "outputs": [
    {
     "name": "stdout",
     "output_type": "stream",
     "text": [
      "(1, 2, 3, 4, 5)\n"
     ]
    }
   ],
   "source": [
    "\"\"\"\n",
    "1. Create a tuple with integers from 1 to 5.\n",
    "\"\"\"\n",
    "\n",
    "t = tuple([ i for i in range(1,6)])\n",
    "print(t)"
   ]
  },
  {
   "cell_type": "code",
   "execution_count": 30,
   "id": "1bd4670c-3a6c-4082-bafb-c16ea6cd4c15",
   "metadata": {},
   "outputs": [
    {
     "name": "stdout",
     "output_type": "stream",
     "text": [
      "<class 'tuple'>\n",
      "2\n"
     ]
    }
   ],
   "source": [
    "\"\"\"\n",
    "2. Access the third element of a tuple.\n",
    "\"\"\"\n",
    "\n",
    "t =(3,5,2,24,52)\n",
    "\n",
    "print(t[2])"
   ]
  },
  {
   "cell_type": "code",
   "execution_count": 31,
   "id": "739fb9fd-2e79-41dd-ae07-42a58d4a32d5",
   "metadata": {},
   "outputs": [
    {
     "name": "stdout",
     "output_type": "stream",
     "text": [
      "length of the tuple is :  5\n"
     ]
    }
   ],
   "source": [
    "\"\"\"\n",
    "3. Find the length of a tuple without using the `len()` function.\n",
    "\n",
    "\"\"\"\n",
    "t =(3,5,2,24,52)\n",
    "\n",
    "length =  0;\n",
    "for i in t:\n",
    "    length+=1;\n",
    "print(\"length of the tuple is : \",length)\n"
   ]
  },
  {
   "cell_type": "code",
   "execution_count": 32,
   "id": "5b3e1993-5674-4c25-a28d-f3a635c96673",
   "metadata": {},
   "outputs": [
    {
     "name": "stdout",
     "output_type": "stream",
     "text": [
      "3\n"
     ]
    }
   ],
   "source": [
    "\"\"\"\n",
    "4. Count the occurrences of an element in a tuple.\n",
    "\"\"\"\n",
    "\n",
    "t = (3,2,4,2,5,7,4,5,2,5,347,84,5)\n",
    "print(t.count(2))"
   ]
  },
  {
   "cell_type": "code",
   "execution_count": 34,
   "id": "0d72493f-9f2a-4326-b26a-de4da3fb47e1",
   "metadata": {},
   "outputs": [
    {
     "name": "stdout",
     "output_type": "stream",
     "text": [
      "1\n"
     ]
    }
   ],
   "source": [
    "\"\"\"\n",
    "5. Find the index of the first occurrence of an element in a tuple.\n",
    "\"\"\"\n",
    "t = (3,2,4,2,5,7,4,5,2,5,347,84,5)\n",
    "\n",
    "print(t.index(2))\n"
   ]
  },
  {
   "cell_type": "code",
   "execution_count": 35,
   "id": "474d7145-2180-4166-9bbf-d7c1fead0d30",
   "metadata": {},
   "outputs": [
    {
     "name": "stdout",
     "output_type": "stream",
     "text": [
      "True\n",
      "False\n"
     ]
    }
   ],
   "source": [
    "\"\"\"\n",
    "6. Check if an element exists in a tuple.\n",
    "\"\"\"\n",
    "\n",
    "def exist(t,n):\n",
    "    for i in t:\n",
    "        if i == n:\n",
    "            return True\n",
    "        \n",
    "    return False\n",
    "\n",
    "t = (3,2,4,2,5,7,4,5,2,5,347,84,5)\n",
    "\n",
    "print(exist(t,4))\n",
    "print(exist(t,9))\n"
   ]
  },
  {
   "cell_type": "code",
   "execution_count": 37,
   "id": "ce0b6c1c-9fdd-4255-9a8e-16d15336c44a",
   "metadata": {},
   "outputs": [
    {
     "name": "stdout",
     "output_type": "stream",
     "text": [
      "<class 'list'>\n",
      "[3, 2, 4, 2, 5, 7, 4, 5, 2, 5, 347, 84, 5]\n"
     ]
    }
   ],
   "source": [
    "\"\"\"\n",
    "7. Convert a tuple to a list.\n",
    "\"\"\"\n",
    "\n",
    "t = (3,2,4,2,5,7,4,5,2,5,347,84,5)\n",
    "l = list(t)\n",
    "print(type(l))\n",
    "print(l)"
   ]
  },
  {
   "cell_type": "code",
   "execution_count": 39,
   "id": "8cf1f6cf-1ffa-4bb4-89c8-d0681973388b",
   "metadata": {},
   "outputs": [
    {
     "name": "stdout",
     "output_type": "stream",
     "text": [
      "(23, 5, 2, 4, 2)\n",
      "<class 'tuple'>\n"
     ]
    }
   ],
   "source": [
    "\"\"\"\n",
    "8. Convert a list to a tuple.\n",
    "\"\"\"\n",
    "\n",
    "l = [23,5,2,4,2]\n",
    "t = tuple(l)\n",
    "print(t)\n",
    "print(type(t))"
   ]
  },
  {
   "cell_type": "code",
   "execution_count": 1,
   "id": "0c741254-679f-4aba-9d07-0bb5314b3acf",
   "metadata": {},
   "outputs": [
    {
     "name": "stdout",
     "output_type": "stream",
     "text": [
      "a :  34 b :  2 c :  1 d :  3\n"
     ]
    }
   ],
   "source": [
    "\"\"\"\n",
    "9. Unpack the elements of a tuple into variables.\n",
    "\"\"\"\n",
    "\n",
    "t = (34,2,1,3)\n",
    "\n",
    "a,b,c,d = t\n",
    "print(\"a : \",a,\"b : \",b,\"c : \",c,\"d : \",d)"
   ]
  },
  {
   "cell_type": "code",
   "execution_count": 2,
   "id": "a1345d1e-8b33-491b-9200-f35c03f8b4a1",
   "metadata": {},
   "outputs": [
    {
     "name": "stdout",
     "output_type": "stream",
     "text": [
      "(2, 4, 6, 8, 10)\n"
     ]
    }
   ],
   "source": [
    "\"\"\"\n",
    "10. Create a tuple of even numbers from 1 to 10.\n",
    "\"\"\"\n",
    "t = tuple([i for i in range(1,11) if i %2 ==0])\n",
    "print(t)"
   ]
  },
  {
   "cell_type": "code",
   "execution_count": 3,
   "id": "32019e41-ac48-4125-93dc-5175e29a5ce3",
   "metadata": {},
   "outputs": [
    {
     "name": "stdout",
     "output_type": "stream",
     "text": [
      "(1, 3, 5, 7, 9)\n"
     ]
    }
   ],
   "source": [
    "\"\"\"\n",
    "11. Create a tuple of odd numbers from 1 to 10.\n",
    "\"\"\"\n",
    "\n",
    "t = tuple([i for i in range(1,11) if i %2 !=0])\n",
    "print(t)"
   ]
  },
  {
   "cell_type": "code",
   "execution_count": 5,
   "id": "0fc3ca49-7341-43ee-ba86-18b27f389ec9",
   "metadata": {},
   "outputs": [
    {
     "name": "stdout",
     "output_type": "stream",
     "text": [
      "(1, 2, 3, 4, 5, 6)\n"
     ]
    }
   ],
   "source": [
    "\"\"\"\n",
    "12. Concatenate two tuples.\n",
    "\"\"\"\n",
    "\n",
    "t1 = (1,2,3)\n",
    "t2 = (4,5,6)\n",
    "t3 = t1+t2\n",
    "print(t3)"
   ]
  },
  {
   "cell_type": "code",
   "execution_count": 7,
   "id": "7605dc8a-fdc0-4673-9135-ee9d8bca853d",
   "metadata": {},
   "outputs": [
    {
     "name": "stdout",
     "output_type": "stream",
     "text": [
      "(1, 2, 3, 1, 2, 3, 1, 2, 3)\n"
     ]
    }
   ],
   "source": [
    "\"\"\"\n",
    "13. Repeat a tuple three times.\n",
    "\"\"\"\n",
    "\n",
    "t1 = (1,2,3)\n",
    "print(t1*3)"
   ]
  },
  {
   "cell_type": "code",
   "execution_count": 9,
   "id": "0a26d1a0-010f-46de-bb1d-68ff70d6fabe",
   "metadata": {},
   "outputs": [
    {
     "name": "stdout",
     "output_type": "stream",
     "text": [
      "False\n",
      "True\n"
     ]
    }
   ],
   "source": [
    "\"\"\"\n",
    "14. Check if a tuple is empty.\n",
    "\"\"\"\n",
    "\n",
    "def is_empty(t):\n",
    "    if len(t) == 0:\n",
    "        return True;\n",
    "    return False;\n",
    "\n",
    "t1 = (2,4,5)\n",
    "t2 = ()\n",
    "print(is_empty(t1))\n",
    "print(is_empty(t2))"
   ]
  },
  {
   "cell_type": "code",
   "execution_count": 12,
   "id": "e43a3dc0-e161-40ba-bbde-1ed6e481b7fb",
   "metadata": {},
   "outputs": [
    {
     "name": "stdout",
     "output_type": "stream",
     "text": [
      "((1, 2, 3), (45, 6, 7), (55, 62, 4))\n"
     ]
    }
   ],
   "source": [
    "\"\"\"\n",
    "15. Create a nested tuple.\n",
    "\"\"\" \n",
    "\n",
    "\n",
    "t1 = (1,2,3)\n",
    "t2 = (45,6,7)\n",
    "t3 = (55,62,4)\n",
    "t = (t1,t2,t3)\n",
    "\n",
    "print(t)"
   ]
  },
  {
   "cell_type": "code",
   "execution_count": 13,
   "id": "a0dbea47-2777-4373-adb1-7657ea1622cb",
   "metadata": {},
   "outputs": [
    {
     "name": "stdout",
     "output_type": "stream",
     "text": [
      "(1, 2, 3)\n"
     ]
    }
   ],
   "source": [
    "\"\"\"\n",
    "16. Access the first element of a nested tuple.\n",
    "\"\"\"\n",
    "t1 = (1,2,3)\n",
    "t2 = (45,6,7)\n",
    "t3 = (55,62,4)\n",
    "t = (t1,t2,t3)\n",
    "\n",
    "print(t[0])\n"
   ]
  },
  {
   "cell_type": "code",
   "execution_count": 15,
   "id": "ed957bcf-ce31-4c36-ba89-87de96c53ec4",
   "metadata": {},
   "outputs": [
    {
     "name": "stdout",
     "output_type": "stream",
     "text": [
      "<class 'tuple'>\n"
     ]
    }
   ],
   "source": [
    "\"\"\"\n",
    "17. Create a tuple with a single element.\n",
    "\"\"\"\n",
    "\n",
    "t = (1,)\n",
    "print(type(t))\n"
   ]
  },
  {
   "cell_type": "code",
   "execution_count": 17,
   "id": "2ed67eee-3139-4683-9600-8795388618ef",
   "metadata": {},
   "outputs": [
    {
     "name": "stdout",
     "output_type": "stream",
     "text": [
      "False\n",
      "True\n",
      "True\n",
      "False\n",
      "False\n",
      "True\n"
     ]
    }
   ],
   "source": [
    "\"\"\"\n",
    "18. Compare two tuples.\n",
    "\"\"\"\n",
    "t1 = (1,2,3)\n",
    "t2 = (45,6,7)\n",
    "print(t1 == t2)\n",
    "print(t1 != t2)\n",
    "print(t1 <= t2)\n",
    "print(t1 >= t2)\n",
    "print(t1 > t2)\n",
    "print(t1 < t2)\n"
   ]
  },
  {
   "cell_type": "code",
   "execution_count": 21,
   "id": "a83954d2-b1f0-4476-acb1-91da33771927",
   "metadata": {},
   "outputs": [],
   "source": [
    "\"\"\"\n",
    "19. Delete a tuple.\n",
    "\"\"\"\n",
    "\n",
    "t1 =(2,3,45)\n",
    "del(t1)\n"
   ]
  },
  {
   "cell_type": "code",
   "execution_count": 23,
   "id": "df402b5c-1ff4-403f-ae87-eca470354b7a",
   "metadata": {},
   "outputs": [
    {
     "name": "stdout",
     "output_type": "stream",
     "text": [
      "(5, 64, 342)\n"
     ]
    }
   ],
   "source": [
    "\"\"\"\n",
    "20. Slice a tuple.\n",
    "\"\"\"\n",
    "\n",
    "t = (3,4,5,64,342,1674,31)\n",
    "\n",
    "print(t[2:5])"
   ]
  },
  {
   "cell_type": "code",
   "execution_count": 24,
   "id": "915fd231-e68b-4bff-b942-74d1d4e2a99d",
   "metadata": {},
   "outputs": [
    {
     "name": "stdout",
     "output_type": "stream",
     "text": [
      "1674\n"
     ]
    }
   ],
   "source": [
    "\"\"\"\n",
    "21. Find the maximum value in a tuple.\n",
    "\"\"\"\n",
    "\n",
    "t = (3,4,5,64,342,1674,31)\n",
    "print(max(t))"
   ]
  },
  {
   "cell_type": "code",
   "execution_count": 25,
   "id": "784781f8-a2d9-4bd1-8420-cef507d65afb",
   "metadata": {},
   "outputs": [
    {
     "name": "stdout",
     "output_type": "stream",
     "text": [
      "3\n"
     ]
    }
   ],
   "source": [
    "\"\"\"\n",
    "22. Find the minimum value in a tuple.\n",
    "\"\"\"\n",
    "\n",
    "t = (3,4,5,64,342,1674,31)\n",
    "print(min(t))"
   ]
  },
  {
   "cell_type": "code",
   "execution_count": 31,
   "id": "78e845b0-0fa7-483e-beb4-b379b32dda89",
   "metadata": {},
   "outputs": [
    {
     "name": "stdout",
     "output_type": "stream",
     "text": [
      "('s', 't', 'r', 'i', 'n', 'g')\n"
     ]
    }
   ],
   "source": [
    "\"\"\"\n",
    "23. Convert a string to a tuple of characters.\n",
    "\"\"\"\n",
    "\n",
    "s = \"string\"\n",
    "t = tuple([i for i in s])\n",
    "print(t)"
   ]
  },
  {
   "cell_type": "code",
   "execution_count": 34,
   "id": "d427561f-9ad0-45db-bd86-382965663b82",
   "metadata": {},
   "outputs": [
    {
     "name": "stdout",
     "output_type": "stream",
     "text": [
      "string\n"
     ]
    }
   ],
   "source": [
    "\"\"\"\n",
    "24. Convert a tuple of characters to a string.\n",
    "\"\"\"\n",
    "\n",
    "t = ('s', 't', 'r', 'i', 'n', 'g')\n",
    "s = \"\".join(t)\n",
    "print(s)\n"
   ]
  },
  {
   "cell_type": "code",
   "execution_count": 35,
   "id": "bb1d6ac8-00db-4718-8918-8233ce54038e",
   "metadata": {},
   "outputs": [
    {
     "name": "stdout",
     "output_type": "stream",
     "text": [
      "(2, 'string', 34.2, True)\n"
     ]
    }
   ],
   "source": [
    "\"\"\"\n",
    "25. Create a tuple from multiple data types.\n",
    "\"\"\"\n",
    "\n",
    "a = 2\n",
    "b = \"string\"\n",
    "c = 34.2\n",
    "d = True\n",
    "\n",
    "t = (a,b,c,d)\n",
    "print(t)"
   ]
  },
  {
   "cell_type": "code",
   "execution_count": 36,
   "id": "dfd95bc6-90b1-4e5a-8c5e-753fb4e69341",
   "metadata": {},
   "outputs": [
    {
     "name": "stdout",
     "output_type": "stream",
     "text": [
      "True\n",
      "False\n"
     ]
    }
   ],
   "source": [
    "\"\"\"\n",
    "26. Check if two tuples are identical.\n",
    "\"\"\"\n",
    "def identical(t1,t2):\n",
    "    return t1 == t2\n",
    "\n",
    "t1 = (3,2,5,64)\n",
    "t2= (3,2,5,64)\n",
    "\n",
    "t3 = (4,2,43)\n",
    "\n",
    "print(identical(t1,t2))\n",
    "print(identical(t2,t3))"
   ]
  },
  {
   "cell_type": "code",
   "execution_count": 39,
   "id": "bf7e5d9c-3cef-423d-ae41-8236b31152c8",
   "metadata": {},
   "outputs": [
    {
     "name": "stdout",
     "output_type": "stream",
     "text": [
      "(3, 5, 36, 63)\n"
     ]
    }
   ],
   "source": [
    "\"\"\"\n",
    "27. Sort the elements of a tuple.\n",
    "\"\"\"\n",
    "\n",
    "t = (5,3,63,36)\n",
    "t1 = tuple(sorted(t))\n",
    "\n",
    "print(t1)"
   ]
  },
  {
   "cell_type": "code",
   "execution_count": 42,
   "id": "23100b4c-0f19-4def-bb5d-320a91363f92",
   "metadata": {},
   "outputs": [
    {
     "name": "stdout",
     "output_type": "stream",
     "text": [
      "('5', '3', '63', '36')\n"
     ]
    }
   ],
   "source": [
    "\"\"\"\n",
    "28. Convert a tuple of integers to a tuple of strings.\n",
    "\"\"\"\n",
    "t = (5,3,63,36)\n",
    "\n",
    "t1 = tuple(str(i) for i in t)\n",
    "\n",
    "print(t1)"
   ]
  },
  {
   "cell_type": "code",
   "execution_count": 1,
   "id": "6b7eaadb-cb6d-49f1-9e97-256165017b5a",
   "metadata": {},
   "outputs": [
    {
     "name": "stdout",
     "output_type": "stream",
     "text": [
      "(5, 3, 63, 36)\n"
     ]
    }
   ],
   "source": [
    "\"\"\"\n",
    "29. Convert a tuple of strings to a tuple of integers.\n",
    "\"\"\"\n",
    "t = ('5', '3', '63', '36')\n",
    "t1= tuple(int(i) for i in t)\n",
    "print(t1)"
   ]
  },
  {
   "cell_type": "code",
   "execution_count": 2,
   "id": "e9212315-6b71-4d88-b1a1-ac7c606ff5f5",
   "metadata": {},
   "outputs": [
    {
     "name": "stdout",
     "output_type": "stream",
     "text": [
      "(2, 3, 4, 5, 6, 7)\n"
     ]
    }
   ],
   "source": [
    "\"\"\"\n",
    "30. Merge two tuples.\n",
    "\"\"\"\n",
    "\n",
    "t1 = (2,3,4)\n",
    "t2 = (5,6,7)\n",
    "\n",
    "merged = t1+t2\n",
    "print(merged)"
   ]
  },
  {
   "cell_type": "code",
   "execution_count": 3,
   "id": "ed60b1f1-6cde-43c9-87e5-452553a72818",
   "metadata": {},
   "outputs": [
    {
     "name": "stdout",
     "output_type": "stream",
     "text": [
      "(3, 4, 3, 2, 4, 5, 67, 8, 34, 34, 2241, 114, 42, 133, 5, 2, 35, 66)\n"
     ]
    }
   ],
   "source": [
    "\"\"\"\n",
    "31. Flatten a nested tuple.\n",
    "\"\"\"\n",
    "\n",
    "def tup_flat(t,temp = []):\n",
    "    for i in t:\n",
    "        if isinstance(i,tuple):\n",
    "            tup_flat(i)\n",
    "        else:\n",
    "            temp.append(i)\n",
    "    return tuple(temp)\n",
    "\n",
    "\n",
    "t = (3,4,3,2,(4,5,67,8),34,(34,2241,114,(42,133,5,2,35),66))\n",
    "t2 = tup_flat(t)\n",
    "print(t2)\n"
   ]
  },
  {
   "cell_type": "code",
   "execution_count": 11,
   "id": "03610540-4cfc-4185-968c-ce39d9295cae",
   "metadata": {},
   "outputs": [
    {
     "name": "stdout",
     "output_type": "stream",
     "text": [
      "(2, 3, 5, 7, 11)\n"
     ]
    }
   ],
   "source": [
    "\"\"\"\n",
    "32. Create a tuple of the first 5 prime numbers.\n",
    "\"\"\"\n",
    "\n",
    "def prime(n):\n",
    "    count = 0\n",
    "    num = 2\n",
    "    l =[]\n",
    "    while count <n:\n",
    "        for i in range(2,num):\n",
    "            if num%i == 0:\n",
    "                break;\n",
    "        else:\n",
    "            l.append(num)\n",
    "            count+=1;\n",
    "        num+=1\n",
    "        \n",
    "    return tuple(l)\n",
    "\n",
    "print(prime(5))"
   ]
  },
  {
   "cell_type": "code",
   "execution_count": 15,
   "id": "61d8e04f-c4d2-426e-b347-f6d1f8c285aa",
   "metadata": {},
   "outputs": [
    {
     "name": "stdout",
     "output_type": "stream",
     "text": [
      "True\n",
      "False\n"
     ]
    }
   ],
   "source": [
    "\"\"\"\n",
    "33. Check if a tuple is a palindrome.\n",
    "\"\"\"\n",
    "\n",
    "\n",
    "def is_palindrome(t):\n",
    "    for i in range(len(t)//2):\n",
    "        if t[i] != t[-i-1]:\n",
    "            return False\n",
    "    else:\n",
    "        return True\n",
    "t = (1,2,3,4,5,5,4,3,2,1)\n",
    "t1 = (23,31,42,41)\n",
    "print(is_palindrome(t))\n",
    "print(is_palindrome(t1))\n",
    "\n"
   ]
  },
  {
   "cell_type": "code",
   "execution_count": 18,
   "id": "a5e78d79-2cfc-44f5-926a-faa4ed61f4cd",
   "metadata": {},
   "outputs": [
    {
     "name": "stdout",
     "output_type": "stream",
     "text": [
      "(1, 4, 9, 16, 25)\n"
     ]
    }
   ],
   "source": [
    "\"\"\"\n",
    "34. Create a tuple of squares of numbers from 1 to 5.\n",
    "\"\"\"\n",
    "\n",
    "t = tuple( i**2 for i in range(1,6))\n",
    "\n",
    "print(t)"
   ]
  },
  {
   "cell_type": "code",
   "execution_count": 19,
   "id": "771429bc-c5ca-4843-8e2f-de4aab97c6d0",
   "metadata": {},
   "outputs": [
    {
     "name": "stdout",
     "output_type": "stream",
     "text": [
      "(4, 2, 6, 2, 66, 4)\n"
     ]
    }
   ],
   "source": [
    "\"\"\"\n",
    "35. Filter out all even numbers from a tuple.\n",
    "\"\"\"\n",
    "\n",
    "t = (3,4,2,5,6,2,645,85,66,95,4,53,99)\n",
    "\n",
    "t1 = tuple(i for i in t if i%2 == 0)\n",
    "print(t1)"
   ]
  },
  {
   "cell_type": "code",
   "execution_count": 20,
   "id": "e2c49f3a-ceaf-4e1c-a45a-115cdd0c1923",
   "metadata": {},
   "outputs": [
    {
     "name": "stdout",
     "output_type": "stream",
     "text": [
      "(46, 86, 4, 2, 48, 10, 122)\n"
     ]
    }
   ],
   "source": [
    "\"\"\"\n",
    "36. Multiply all elements in a tuple by 2\n",
    "\"\"\"\n",
    "\n",
    "t = (23,43,2,1,24,5,61)\n",
    "\n",
    "\n",
    "t1 = tuple(i *2 for i in t)\n",
    "print(t1)"
   ]
  },
  {
   "cell_type": "code",
   "execution_count": 24,
   "id": "2d7338ec-bafb-4370-b965-59bc4940bd93",
   "metadata": {},
   "outputs": [
    {
     "name": "stdout",
     "output_type": "stream",
     "text": [
      "(27, 19, 32, 24, 50, 34, 18, 38, 19, 35, 1)\n"
     ]
    }
   ],
   "source": [
    "\"\"\"\n",
    "37. Create a tuple of random numbers.\n",
    "\"\"\"\n",
    "\n",
    "import random\n",
    "\n",
    "t = tuple(random.randint(1,50) for i in range(11))\n",
    "print(t)"
   ]
  },
  {
   "cell_type": "code",
   "execution_count": 25,
   "id": "3695b51a-b544-4356-b3e9-dc574af24453",
   "metadata": {},
   "outputs": [
    {
     "name": "stdout",
     "output_type": "stream",
     "text": [
      "False\n",
      "True\n"
     ]
    }
   ],
   "source": [
    "\"\"\"\n",
    "38. Check if a tuple is sorted.\n",
    "\"\"\"\n",
    "\n",
    "def check_sorted(t):\n",
    "    for i in range(1,len(t)):\n",
    "        if t[i-1] > t[i] :\n",
    "            return False\n",
    "    return True\n",
    "\n",
    "t1 = (3,34,1,412)\n",
    "t2 = (3,4,5,67,99)\n",
    "print(check_sorted(t1))\n",
    "print(check_sorted(t2))"
   ]
  },
  {
   "cell_type": "code",
   "execution_count": 27,
   "id": "d86c4142-d83e-4596-a849-21db00a31662",
   "metadata": {},
   "outputs": [
    {
     "name": "stdout",
     "output_type": "stream",
     "text": [
      "(4, 5, 6, 78, 1, 2, 3)\n"
     ]
    }
   ],
   "source": [
    "\"\"\"\n",
    "39. Rotate a tuple to the left by `n` positions.\n",
    "\"\"\"\n",
    "\n",
    "def rotate_left(t,n):\n",
    "    shift = n%len(t)\n",
    "    rotated = t[shift:] + t[:shift]\n",
    "    return rotated\n",
    "\n",
    "t = (1,2,3,4,5,6,78)\n",
    "print(rotate_left(t,3))"
   ]
  },
  {
   "cell_type": "code",
   "execution_count": 28,
   "id": "5c2013ca-c704-45c6-9be3-5120471e179f",
   "metadata": {},
   "outputs": [
    {
     "name": "stdout",
     "output_type": "stream",
     "text": [
      "(5, 6, 78, 1, 2, 3, 4)\n"
     ]
    }
   ],
   "source": [
    "\"\"\"\n",
    "40. Rotate a tuple to the right by `n` positions.\n",
    "\"\"\"\n",
    "\n",
    "def rotate_left(t,n):\n",
    "    shift = n%len(t)\n",
    "    rotated = t[-shift:] + t[:-shift]\n",
    "    return rotated\n",
    "\n",
    "t = (1,2,3,4,5,6,78)\n",
    "print(rotate_left(t,3))"
   ]
  },
  {
   "cell_type": "code",
   "execution_count": 2,
   "id": "39e62835-a204-4428-982f-7aaff488def2",
   "metadata": {},
   "outputs": [
    {
     "name": "stdout",
     "output_type": "stream",
     "text": [
      "(0, 1, 1, 2, 3)\n"
     ]
    }
   ],
   "source": [
    "\"\"\"\n",
    "41. Create a tuple of the first 5 Fibonacci numbers.\n",
    "\"\"\"\n",
    "a,b = 0,1\n",
    "l = [0,1]\n",
    "count = 2\n",
    "while count < 5:\n",
    "    c = a+b\n",
    "    a=b\n",
    "    b=c\n",
    "    l.append(c)\n",
    "    count+=1\n",
    "print(tuple(l))"
   ]
  },
  {
   "cell_type": "code",
   "execution_count": 6,
   "id": "283afe35-211c-425b-ae08-778dfb75db1c",
   "metadata": {},
   "outputs": [
    {
     "name": "stdin",
     "output_type": "stream",
     "text": [
      "Enter the length of the tuple 3\n",
      " 1\n",
      " 2\n",
      " 3\n"
     ]
    },
    {
     "name": "stdout",
     "output_type": "stream",
     "text": [
      "('1', '2', '3')\n"
     ]
    }
   ],
   "source": [
    "\"\"\"\n",
    "42. Create a tuple from user input.\n",
    "\"\"\"\n",
    "length = int(input(\"Enter the length of the tuple\"))\n",
    "t = tuple(input() for i in range(length))\n",
    "print(t)"
   ]
  },
  {
   "cell_type": "code",
   "execution_count": 7,
   "id": "0e103a04-11e2-4b8e-84aa-601f8c0cd589",
   "metadata": {},
   "outputs": [
    {
     "name": "stdout",
     "output_type": "stream",
     "text": [
      "(2, 56, 66, 53, 21)\n"
     ]
    }
   ],
   "source": [
    "\"\"\"\n",
    "43. Swap two elements in a tuple.\n",
    "\"\"\"\n",
    "def swap(t,i,j):\n",
    "    temp = list(t)\n",
    "    \n",
    "    temp[i],temp[j] = temp[j],temp[i]\n",
    "    return tuple(temp)\n",
    "    \n",
    "t = (2,56,21,53,66)\n",
    "print(swap(t,2,4))\n"
   ]
  },
  {
   "cell_type": "code",
   "execution_count": 11,
   "id": "45f3c01a-c73b-4829-b26a-55ccea53e36e",
   "metadata": {},
   "outputs": [
    {
     "name": "stdout",
     "output_type": "stream",
     "text": [
      "original tuple :  (2, 56, 21, 53, 66)\n",
      "reversed tuple :  (66, 53, 21, 56, 2)\n"
     ]
    }
   ],
   "source": [
    "\"\"\"\n",
    "44. Reverse the elements of a tuple.\n",
    "\"\"\"\n",
    "\n",
    "t = (2,56,21,53,66)\n",
    "print(\"original tuple : \",t)\n",
    "l = list(t)\n",
    "l1 = l[::-1]\n",
    "t1= tuple(l1)\n",
    "\n",
    "print(\"reversed tuple : \",t1)"
   ]
  },
  {
   "cell_type": "code",
   "execution_count": 13,
   "id": "6e6cab83-4eb8-4f0c-9d9b-463c62b5be33",
   "metadata": {},
   "outputs": [
    {
     "name": "stdout",
     "output_type": "stream",
     "text": [
      "(2, 4, 8, 16)\n"
     ]
    }
   ],
   "source": [
    "\"\"\"\n",
    "45. Create a tuple of the first `n` powers of 2.\n",
    "\"\"\"\n",
    "\n",
    "def power_of_two(n):\n",
    "    t = tuple(2**i for i in range(1,n+1))\n",
    "    return t\n",
    "              \n",
    "print(power_of_two(4))"
   ]
  },
  {
   "cell_type": "code",
   "execution_count": 15,
   "id": "78b1a9e9-ec85-4584-8f7a-a033b715b6b7",
   "metadata": {},
   "outputs": [
    {
     "name": "stdout",
     "output_type": "stream",
     "text": [
      "Longest string is :  longest\n"
     ]
    }
   ],
   "source": [
    "\"\"\"\n",
    "46. Find the longest string in a tuple of strings.\n",
    "\"\"\"\n",
    "\n",
    "t = (\"Find\", \"the\", \"longest\", \"string\", \"in\", \"a\", \"tuple\",\"of\", \"strings\")\n",
    "longest = t[0]\n",
    "for i in t:\n",
    "    if len(i) > len(longest):\n",
    "        longest = i\n",
    "        \n",
    "print(\"Longest string is : \",longest)"
   ]
  },
  {
   "cell_type": "code",
   "execution_count": 16,
   "id": "1c02b10c-2eca-437b-9de3-5f8a5fbe0ee6",
   "metadata": {},
   "outputs": [
    {
     "name": "stdout",
     "output_type": "stream",
     "text": [
      "Shortest string is :  a\n"
     ]
    }
   ],
   "source": [
    "\"\"\"\n",
    "47. Find the shortest string in a tuple of strings.\n",
    "\n",
    "\"\"\"\n",
    "t = (\"Find\", \"the\", \"longest\", \"string\", \"in\", \"a\", \"tuple\",\"of\", \"strings\")\n",
    "\n",
    "shortest = t[0]\n",
    "for i in t:\n",
    "    if len(i) < len(shortest):\n",
    "        shortest = i\n",
    "        \n",
    "print(\"Shortest string is : \",shortest)"
   ]
  },
  {
   "cell_type": "code",
   "execution_count": 20,
   "id": "e98f2fe0-a6fb-48ba-978e-13548f92b23a",
   "metadata": {},
   "outputs": [
    {
     "name": "stdout",
     "output_type": "stream",
     "text": [
      "(1.0, 3.0, 6.0, 10.0, 15.0)\n"
     ]
    }
   ],
   "source": [
    "\"\"\"\n",
    "48. Create a tuple of the first `n` triangular numbers.\n",
    "\"\"\"\n",
    "\n",
    "def triangular(n):\n",
    "    l=[]\n",
    "    num = 1\n",
    "    count=0\n",
    "    while count<n:\n",
    "        l.append(num*(num+1)/2)\n",
    "        num+=1\n",
    "        count+=1\n",
    "    return tuple(l)\n",
    "\n",
    "print(triangular(5))"
   ]
  },
  {
   "cell_type": "code",
   "execution_count": 21,
   "id": "9523d98d-d5e0-4c89-ab7d-2e34f52b65ff",
   "metadata": {},
   "outputs": [
    {
     "name": "stdout",
     "output_type": "stream",
     "text": [
      "False\n",
      "True\n"
     ]
    }
   ],
   "source": [
    "\"\"\"\n",
    "49. Check if a tuple contains another tuple as a subsequence.\n",
    "\"\"\"\n",
    "\n",
    "def check_tuple(t):\n",
    "    for i in t:\n",
    "        if isinstance(i,tuple):\n",
    "            return True\n",
    "    else:\n",
    "        return False\n",
    "    \n",
    "t1 = (3,4,5,6)\n",
    "t2 = (3,4,5,6,(4,4,6,4),43)\n",
    "\n",
    "print(check_tuple(t1))\n",
    "print(check_tuple(t2))"
   ]
  },
  {
   "cell_type": "code",
   "execution_count": 23,
   "id": "9a1782c5-9106-4bbf-aea0-8e5bae5b1da0",
   "metadata": {},
   "outputs": [
    {
     "name": "stdout",
     "output_type": "stream",
     "text": [
      "(0, 1, 0, 1, 0)\n"
     ]
    }
   ],
   "source": [
    "\"\"\"\n",
    "50. Create a tuple of alternating 1s and 0s of length `n`.\n",
    "\n",
    "\"\"\"\n",
    "\n",
    "def create_tuple(n):\n",
    "    l = []\n",
    "    i =1\n",
    "    count=0\n",
    "    while count <n:\n",
    "        if i %2 != 0:\n",
    "            l.append(0)\n",
    "        else:\n",
    "            l.append(1)\n",
    "        count+=1\n",
    "        i+=1\n",
    "    return tuple(l)\n",
    "\n",
    "print(create_tuple(5))"
   ]
  },
  {
   "cell_type": "code",
   "execution_count": 24,
   "id": "a2b374ad-c4fc-43b9-ab22-aad8d863ec66",
   "metadata": {},
   "outputs": [
    {
     "data": {
      "text/plain": [
       "'\\n\\n\\nSet Based Practice Problem :\\n\\n\\n'"
      ]
     },
     "execution_count": 24,
     "metadata": {},
     "output_type": "execute_result"
    }
   ],
   "source": [
    "\"\"\"\n",
    "\n",
    "\n",
    "Set Based Practice Problem :\n",
    "\n",
    "\n",
    "\"\"\"\n"
   ]
  },
  {
   "cell_type": "code",
   "execution_count": 26,
   "id": "aab1958e-1d02-455c-a0dc-13521b289f9b",
   "metadata": {},
   "outputs": [
    {
     "name": "stdout",
     "output_type": "stream",
     "text": [
      "{1, 2, 3, 4, 5}\n",
      "<class 'set'>\n"
     ]
    }
   ],
   "source": [
    "\"\"\"\n",
    "1. Create a set with integers from 1 to 5.\n",
    "\"\"\"\n",
    "\n",
    "s = set(i for i in range(1,6))\n",
    "print(s)\n"
   ]
  },
  {
   "cell_type": "code",
   "execution_count": 28,
   "id": "a21540ba-735e-44e1-b546-213b031a45a2",
   "metadata": {},
   "outputs": [
    {
     "name": "stdout",
     "output_type": "stream",
     "text": [
      "{2, 99, 3, 4, 5}\n"
     ]
    }
   ],
   "source": [
    "\"\"\"\n",
    "2. Add an element to a set.\n",
    "\n",
    "\"\"\"\n",
    "s = {2,3,4,5}\n",
    "s.add(99)\n",
    "print(s)"
   ]
  },
  {
   "cell_type": "code",
   "execution_count": 30,
   "id": "8831d0bb-8bf1-4726-9ba5-7042188ce4c4",
   "metadata": {},
   "outputs": [
    {
     "name": "stdout",
     "output_type": "stream",
     "text": [
      "{2, 99, 4, 5}\n"
     ]
    }
   ],
   "source": [
    "\"\"\"\n",
    "3. Remove an element from a set.\n",
    "\"\"\"\n",
    "\n",
    "s = {2, 99, 3, 4, 5}\n",
    "s.remove(3)\n",
    "print(s)"
   ]
  },
  {
   "cell_type": "code",
   "execution_count": 33,
   "id": "89467ccb-6b0c-46e1-8ffd-b6940822becc",
   "metadata": {},
   "outputs": [
    {
     "name": "stdout",
     "output_type": "stream",
     "text": [
      "True\n",
      "False\n"
     ]
    }
   ],
   "source": [
    "\"\"\"\n",
    "4. Check if an element exists in a set.\n",
    "\"\"\"\n",
    "def is_available(s,n):\n",
    "    return n in s\n",
    "\n",
    "s = {2, 99, 3, 4, 5}\n",
    "\n",
    "print(is_available(s,4))\n",
    "print(is_available(s,90))"
   ]
  },
  {
   "cell_type": "code",
   "execution_count": 34,
   "id": "03f73532-b2de-4c6d-840e-e5c0906e7e84",
   "metadata": {},
   "outputs": [
    {
     "name": "stdout",
     "output_type": "stream",
     "text": [
      "5\n"
     ]
    }
   ],
   "source": [
    "\"\"\"\n",
    "5. Find the length of a set without using the `len()` function.\n",
    "\"\"\"\n",
    "\n",
    "def length(s):\n",
    "    count = 0;\n",
    "    for i in s:\n",
    "        count+=1\n",
    "    return count\n",
    "\n",
    "s = {3,4,5,7,8}\n",
    "print(length(s))"
   ]
  },
  {
   "cell_type": "code",
   "execution_count": 35,
   "id": "e68ab5e9-9f00-4e8a-9042-1467661fd7bb",
   "metadata": {},
   "outputs": [
    {
     "name": "stdout",
     "output_type": "stream",
     "text": [
      "set()\n"
     ]
    }
   ],
   "source": [
    "\"\"\"\n",
    "6. Clear all elements from a set.\n",
    "\"\"\"\n",
    "s = {3,4,5,7,8}\n",
    "s.clear()\n",
    "print(s)\n"
   ]
  },
  {
   "cell_type": "code",
   "execution_count": 36,
   "id": "1b72a1a2-1e38-471e-9d17-c60f57587127",
   "metadata": {},
   "outputs": [
    {
     "name": "stdout",
     "output_type": "stream",
     "text": [
      "{2, 4, 6, 8, 10}\n"
     ]
    }
   ],
   "source": [
    "\"\"\"\n",
    "7. Create a set of even numbers from 1 to 10.\n",
    "\"\"\"\n",
    "\n",
    "s= set(i for i in range(1,11) if i %2 == 0)\n",
    "print(s)"
   ]
  },
  {
   "cell_type": "code",
   "execution_count": 37,
   "id": "6ab6fd9d-2c5e-4d55-aec1-6e11af65e0a0",
   "metadata": {},
   "outputs": [
    {
     "name": "stdout",
     "output_type": "stream",
     "text": [
      "{1, 3, 5, 7, 9}\n"
     ]
    }
   ],
   "source": [
    "\"\"\"\n",
    "8. Create a set of odd numbers from 1 to 10.\n",
    "\"\"\"\n",
    "\n",
    "s = set(i for i in range(1,11) if i%2 != 0)\n",
    "print(s)"
   ]
  },
  {
   "cell_type": "code",
   "execution_count": 38,
   "id": "b7efeecc-c031-4d94-8912-21a5f772cdd2",
   "metadata": {},
   "outputs": [
    {
     "name": "stdout",
     "output_type": "stream",
     "text": [
      "{1, 2, 3, 4, 5, 6, 7, 8, 9, 10}\n"
     ]
    }
   ],
   "source": [
    "\"\"\"\n",
    "9. Find the union of two sets.\n",
    "\"\"\"\n",
    "s1 = {2, 4, 6, 8, 10}\n",
    "\n",
    "s2 = {1, 3, 5, 7, 9}\n",
    "\n",
    "s3 = s1.union(s2)\n",
    "print(s3)"
   ]
  },
  {
   "cell_type": "code",
   "execution_count": 39,
   "id": "d9083b42-112d-49d8-b8e4-1c43692684c7",
   "metadata": {},
   "outputs": [
    {
     "name": "stdout",
     "output_type": "stream",
     "text": [
      "{3, 4}\n"
     ]
    }
   ],
   "source": [
    "\"\"\"\n",
    "10. Find the intersection of two sets.\n",
    "\"\"\"\n",
    "\n",
    "s1= {2,3,4,6,734,232}\n",
    "s2 = {3,4,3,11,55}\n",
    "\n",
    "print(s1.intersection(s2))"
   ]
  },
  {
   "cell_type": "code",
   "execution_count": 40,
   "id": "3b0c32d6-a8ab-491a-981e-c621a8c9caa2",
   "metadata": {},
   "outputs": [
    {
     "name": "stdout",
     "output_type": "stream",
     "text": [
      "{232, 2, 734, 6}\n"
     ]
    }
   ],
   "source": [
    "\"\"\"\n",
    "11. Find the difference between two sets.\n",
    "\"\"\"\n",
    "\n",
    "s1= {2,3,4,6,734,232}\n",
    "s2 = {3,4,3,11,55}\n",
    "\n",
    "print(s1.difference(s2))"
   ]
  },
  {
   "cell_type": "code",
   "execution_count": 43,
   "id": "365404b6-46d4-4245-ac3a-1f961c706c8b",
   "metadata": {},
   "outputs": [
    {
     "name": "stdout",
     "output_type": "stream",
     "text": [
      "False\n",
      "True\n"
     ]
    }
   ],
   "source": [
    "\"\"\"\n",
    "12. Check if a set is a subset of another set.\n",
    "\"\"\"\n",
    "s1= {2,3,4,6,734,232}\n",
    "s2 = {3,4,3,11,55}\n",
    "s3 = {3,4,6}\n",
    "print(s1.issubset(s2))\n",
    "print(s3.issubset(s1))\n"
   ]
  },
  {
   "cell_type": "code",
   "execution_count": 45,
   "id": "3a2847a9-dae5-4643-833a-5e93b01d783e",
   "metadata": {},
   "outputs": [
    {
     "name": "stdout",
     "output_type": "stream",
     "text": [
      "False\n",
      "True\n"
     ]
    }
   ],
   "source": [
    "\"\"\"\n",
    "13. Check if a set is a superset of another set.\n",
    "\"\"\"\n",
    "\n",
    "s1= {2,3,4,6,734,232}\n",
    "s2 = {3,4,3,11,55}\n",
    "s3 = {3,4,6}\n",
    "\n",
    "print(s1.issuperset(s2))\n",
    "print(s1.issuperset(s3))"
   ]
  },
  {
   "cell_type": "code",
   "execution_count": 46,
   "id": "76aa677c-b6d3-4369-bff4-9df888b30520",
   "metadata": {},
   "outputs": [
    {
     "name": "stdout",
     "output_type": "stream",
     "text": [
      "{2, 3, 4, 6}\n",
      "<class 'set'>\n"
     ]
    }
   ],
   "source": [
    "\"\"\"\n",
    "14. Create a set from a list.\n",
    "\"\"\"\n",
    "\n",
    "l =[2,3,4,6,3]\n",
    "s = set(l)\n",
    "print(s)\n",
    "print(type(s))"
   ]
  },
  {
   "cell_type": "code",
   "execution_count": 48,
   "id": "10046494-7b84-4114-bb52-b691ad0313b8",
   "metadata": {},
   "outputs": [
    {
     "name": "stdout",
     "output_type": "stream",
     "text": [
      "[2, 3, 4, 6]\n",
      "<class 'list'>\n"
     ]
    }
   ],
   "source": [
    "\"\"\"\n",
    "15. Convert a set to a list.\n",
    "\"\"\"\n",
    "\n",
    "s ={2, 3, 4, 6}\n",
    "\n",
    "l =list(s)\n",
    "print(l)\n",
    "print(type(l))"
   ]
  },
  {
   "cell_type": "code",
   "execution_count": 49,
   "id": "7171e82a-b960-494a-b9f9-7735aa91b70f",
   "metadata": {},
   "outputs": [
    {
     "name": "stdout",
     "output_type": "stream",
     "text": [
      "{3, 4, 6}\n"
     ]
    }
   ],
   "source": [
    "\"\"\"\n",
    "16. Remove a random element from a set.\n",
    "\"\"\"\n",
    "\n",
    "s ={2, 3, 4, 6}\n",
    "s.pop()\n",
    "print(s)"
   ]
  },
  {
   "cell_type": "code",
   "execution_count": 50,
   "id": "68c30f1c-45cb-4daf-8e67-63fc6626139e",
   "metadata": {},
   "outputs": [
    {
     "name": "stdout",
     "output_type": "stream",
     "text": [
      "{3, 4, 6, 232, 734}\n"
     ]
    }
   ],
   "source": [
    "\"\"\"\n",
    "17. Pop an element from a set.\n",
    "\"\"\"\n",
    "\n",
    "s1= {2,3,4,6,734,232}\n",
    "s1.pop()\n",
    "print(s1)"
   ]
  },
  {
   "cell_type": "code",
   "execution_count": 53,
   "id": "2c59ce26-0d0d-483c-a477-1c1f8db59a45",
   "metadata": {},
   "outputs": [
    {
     "name": "stdout",
     "output_type": "stream",
     "text": [
      "False\n",
      "True\n"
     ]
    }
   ],
   "source": [
    "\"\"\"\n",
    "18. Check if two sets have no elements in common.\n",
    "\"\"\"\n",
    "\n",
    "def disjoint_set(s1,s2):\n",
    "    return s1.isdisjoint(s2)\n",
    "    \n",
    "s1= {3,4,5,6,7}\n",
    "s2 = {3,4,6,6,72}\n",
    "s3 = {33,44,56,67}\n",
    "\n",
    "print(disjoint_set(s1,s2))\n",
    "print(disjoint_set(s1,s3))"
   ]
  },
  {
   "cell_type": "code",
   "execution_count": 2,
   "id": "a288fcb0-dc9e-4405-94fa-de561c17b06a",
   "metadata": {},
   "outputs": [
    {
     "name": "stdout",
     "output_type": "stream",
     "text": [
      "{5, 7, 72}\n"
     ]
    }
   ],
   "source": [
    "\"\"\"\n",
    "19. Find the symmetric difference between two sets.\n",
    "\"\"\"\n",
    "s1= {3,4,5,6,7}\n",
    "s2 = {3,4,6,6,72}\n",
    "\n",
    "s3 = s1.symmetric_difference(s2)\n",
    "print(s3)\n"
   ]
  },
  {
   "cell_type": "code",
   "execution_count": 3,
   "id": "b68dc91c-4ed2-4146-9635-7e43c6dd59b6",
   "metadata": {},
   "outputs": [
    {
     "name": "stdout",
     "output_type": "stream",
     "text": [
      "{3, 4, 5, 6, 7, 72}\n"
     ]
    }
   ],
   "source": [
    "\"\"\"\n",
    "20. Update a set with elements from another set.\n",
    "\"\"\"\n",
    "\n",
    "s1= {3,4,5,6,7}\n",
    "s2 = {3,4,6,6,72}\n",
    "s1.update(s2)\n",
    "print(s1)"
   ]
  },
  {
   "cell_type": "code",
   "execution_count": 4,
   "id": "f032477f-d19e-425d-9081-70e817489e81",
   "metadata": {},
   "outputs": [
    {
     "name": "stdout",
     "output_type": "stream",
     "text": [
      "{2, 3, 5, 7, 11}\n"
     ]
    }
   ],
   "source": [
    "\"\"\"\n",
    "\n",
    "21. Create a set of the first 5 prime numbers.\n",
    "\n",
    "\"\"\"\n",
    "\n",
    "def prime(n):\n",
    "    count = 0\n",
    "    num = 2\n",
    "    l =[]\n",
    "    while count <n:\n",
    "        for i in range(2,num):\n",
    "            if num%i == 0:\n",
    "                break;\n",
    "        else:\n",
    "            l.append(num)\n",
    "            count+=1;\n",
    "        num+=1\n",
    "        \n",
    "    return set(l)\n",
    "\n",
    "print(prime(5))"
   ]
  },
  {
   "cell_type": "code",
   "execution_count": 5,
   "id": "e48953dc-8e19-4a32-b55c-be954adc1a62",
   "metadata": {},
   "outputs": [
    {
     "name": "stdout",
     "output_type": "stream",
     "text": [
      "True\n",
      "False\n"
     ]
    }
   ],
   "source": [
    "\"\"\"\n",
    "22. Check if two sets are identical.\n",
    "\"\"\"\n",
    "\n",
    "s1 = {1,2,3,4,5}\n",
    "s2 = {1,2,3,4,5}\n",
    "s3 = {4,5,63}\n",
    "\n",
    "print(s1 == s2)\n",
    "print(s1 == s3)"
   ]
  },
  {
   "cell_type": "code",
   "execution_count": 7,
   "id": "6f36ddea-1dec-4eeb-a2b0-3fbd8d063dab",
   "metadata": {},
   "outputs": [
    {
     "name": "stdout",
     "output_type": "stream",
     "text": [
      "<class 'frozenset'>\n"
     ]
    }
   ],
   "source": [
    "\"\"\"\n",
    "23. Create a frozen set.\n",
    "\"\"\"\n",
    "s1 = {1,2,3,4,5}\n",
    "s2 = frozenset(s1)\n",
    "\n",
    "print(type(s2))\n"
   ]
  },
  {
   "cell_type": "code",
   "execution_count": 9,
   "id": "01608bb9-b7ef-414c-96df-386311d62b51",
   "metadata": {},
   "outputs": [
    {
     "name": "stdout",
     "output_type": "stream",
     "text": [
      "False\n",
      "True\n"
     ]
    }
   ],
   "source": [
    "\"\"\"\n",
    "24. Check if a set is disjoint with another set.\n",
    "\"\"\"\n",
    "\n",
    "s1 = {1,4,5}\n",
    "s2 = {1,2,3}\n",
    "s3 = {4,5,63}\n",
    "\n",
    "print(s1.isdisjoint(s2))\n",
    "print(s2.isdisjoint(s3))"
   ]
  },
  {
   "cell_type": "code",
   "execution_count": 11,
   "id": "e24eee0a-f465-4240-acca-38d77d88129e",
   "metadata": {},
   "outputs": [
    {
     "name": "stdout",
     "output_type": "stream",
     "text": [
      "{1, 4, 9, 16, 25}\n"
     ]
    }
   ],
   "source": [
    "\"\"\"\n",
    "25. Create a set of squares of numbers from 1 to 5.\n",
    "\"\"\"\n",
    "\n",
    "s = set(i**2 for i in range(1,6))\n",
    "print(s)"
   ]
  },
  {
   "cell_type": "code",
   "execution_count": 12,
   "id": "0bc9ad36-7788-4752-98fc-fc0c7b07cdf2",
   "metadata": {},
   "outputs": [
    {
     "name": "stdout",
     "output_type": "stream",
     "text": [
      "{8, 2, 4, 6}\n"
     ]
    }
   ],
   "source": [
    "\"\"\"\n",
    "26. Filter out all even numbers from a set.\n",
    "\"\"\"\n",
    "\n",
    "s = {1,2,3,4,5,6,7,8,9}\n",
    "s2  = set( i for i in s if i%2 == 0)\n",
    "print(s2)"
   ]
  },
  {
   "cell_type": "code",
   "execution_count": 13,
   "id": "3de1109d-14ab-43ee-8878-84d8c4085ce8",
   "metadata": {},
   "outputs": [
    {
     "name": "stdout",
     "output_type": "stream",
     "text": [
      "{2, 4, 6, 8, 10, 12, 14, 16, 18}\n"
     ]
    }
   ],
   "source": [
    "\"\"\"\n",
    "27. Multiply all elements in a set by 2.\n",
    "\"\"\"\n",
    "\n",
    "s = {1,2,3,4,5,6,7,8,9}\n",
    "s = set(i*2 for i in s )\n",
    "print(s)"
   ]
  },
  {
   "cell_type": "code",
   "execution_count": 15,
   "id": "0350002e-3a50-449d-957e-6dd78092f7bf",
   "metadata": {},
   "outputs": [
    {
     "name": "stdout",
     "output_type": "stream",
     "text": [
      "{4, 5, 38, 7, 37, 46, 47, 17, 18, 21, 31}\n"
     ]
    }
   ],
   "source": [
    "\"\"\"\n",
    "28. Create a set of random numbers.\n",
    "\"\"\"\n",
    "import random\n",
    "s = set(random.randint(1,50) for i in range(11))\n",
    "print(s)"
   ]
  },
  {
   "cell_type": "code",
   "execution_count": 17,
   "id": "6a360c7e-5aab-4bcc-972f-dca0c4eb9e50",
   "metadata": {},
   "outputs": [
    {
     "name": "stdout",
     "output_type": "stream",
     "text": [
      "True\n",
      "False\n"
     ]
    }
   ],
   "source": [
    "\"\"\"\n",
    "29. Check if a set is empty.\n",
    "\"\"\"\n",
    "def is_empty(s):\n",
    "    return len(s) == 0\n",
    "s1= set()\n",
    "s2 = {24,42}\n",
    "\n",
    "print(is_empty(s1))\n",
    "print(is_empty(s2))"
   ]
  },
  {
   "cell_type": "code",
   "execution_count": 23,
   "id": "5d3e0951-9855-4e24-bf08-83885abf1485",
   "metadata": {},
   "outputs": [
    {
     "name": "stdout",
     "output_type": "stream",
     "text": [
      "frozenset({frozenset({1, 3, 4, 5}), frozenset({1, 2, 3, 35})})\n"
     ]
    }
   ],
   "source": [
    "\"\"\"\n",
    "30. Create a nested set (hint: use frozenset).\n",
    "\"\"\"\n",
    "\n",
    "s1 = frozenset({1,3,4,5})\n",
    "s2 = frozenset({2,35,1,3})\n",
    "nested = {s1,s2}\n",
    "print(nested)"
   ]
  },
  {
   "cell_type": "code",
   "execution_count": 24,
   "id": "c54bbe04-b5d8-499c-922f-616e8e1cb801",
   "metadata": {},
   "outputs": [
    {
     "name": "stdout",
     "output_type": "stream",
     "text": [
      "{1, 2, 3, 5, 6}\n"
     ]
    }
   ],
   "source": [
    "\"\"\"\n",
    "31. Remove an element from a set using the discard method.\n",
    "\"\"\"\n",
    "\n",
    "s1 = {1,2,3,4,5,6}\n",
    "s1.discard(4)\n",
    "print(s1)"
   ]
  },
  {
   "cell_type": "code",
   "execution_count": 28,
   "id": "b13a1430-9721-4a0b-9104-16a4469ff7a4",
   "metadata": {},
   "outputs": [
    {
     "name": "stdout",
     "output_type": "stream",
     "text": [
      "False\n",
      "True\n",
      "False\n",
      "False\n"
     ]
    }
   ],
   "source": [
    "\"\"\"\n",
    "32. Compare two sets.\n",
    "\"\"\"\n",
    "\n",
    "s1 = {1,4,5}\n",
    "s2 = {1,2,3,4,5}\n",
    "\n",
    "print(s1.isdisjoint(s2))\n",
    "print(s1.issubset(s2))\n",
    "print(s1.issuperset(s2))\n",
    "print(s1 == s2)\n"
   ]
  },
  {
   "cell_type": "code",
   "execution_count": 29,
   "id": "82ffa2aa-2ef5-40b6-9e70-7f2ff7aeebb4",
   "metadata": {},
   "outputs": [
    {
     "name": "stdout",
     "output_type": "stream",
     "text": [
      "{'i', 'r', 't', 's', 'n', '1', 'g'}\n"
     ]
    }
   ],
   "source": [
    "\"\"\"\n",
    "33. Create a set from a string.\n",
    "\"\"\"\n",
    "\n",
    "s = \"string1\"\n",
    "set1 = set(i for i in s)\n",
    "print(set1)"
   ]
  },
  {
   "cell_type": "code",
   "execution_count": 33,
   "id": "109db48e-221d-430f-8897-ac1b73bb7af7",
   "metadata": {},
   "outputs": [
    {
     "name": "stdout",
     "output_type": "stream",
     "text": [
      "{1, 2, 3, 4, 5, 6, 7}\n"
     ]
    }
   ],
   "source": [
    "\"\"\"\n",
    "34. Convert a set of strings to a set of integers.\n",
    "\"\"\"\n",
    "\n",
    "string_set ={'4', '7', '3', '2', '6', '1', '5'}\n",
    "integer_set = set(int(i )for i in string_set)\n",
    "print(integer_set)"
   ]
  },
  {
   "cell_type": "code",
   "execution_count": 34,
   "id": "033e746c-e76a-439b-bb3d-2e2b3a8d5895",
   "metadata": {},
   "outputs": [
    {
     "name": "stdout",
     "output_type": "stream",
     "text": [
      "{'4', '7', '3', '2', '6', '1', '5'}\n"
     ]
    }
   ],
   "source": [
    "\"\"\"\n",
    "35. Convert a set of integers to a set of strings.\n",
    "\"\"\"\n",
    "\n",
    "integer_set = {1, 2, 3, 4, 5, 6, 7}\n",
    "string_set = set(str(i) for i in integer_set)\n",
    "print(string_set)"
   ]
  },
  {
   "cell_type": "code",
   "execution_count": 35,
   "id": "9cc775ca-672e-414f-9ceb-a468d5b5245e",
   "metadata": {},
   "outputs": [
    {
     "name": "stdout",
     "output_type": "stream",
     "text": [
      "{1, 2, 3, 5, 6, 9}\n"
     ]
    }
   ],
   "source": [
    "\"\"\"\n",
    "36. Create a set from a tuple.\n",
    "\"\"\"\n",
    "\n",
    "t = (1,9,3,5,6,2,1)\n",
    "s = set(t)\n",
    "print(s)"
   ]
  },
  {
   "cell_type": "code",
   "execution_count": 36,
   "id": "6e2181fe-4e0c-4b2b-adb4-c59625b0bc9b",
   "metadata": {},
   "outputs": [
    {
     "name": "stdout",
     "output_type": "stream",
     "text": [
      "(1, 2, 3, 5, 6, 9)\n"
     ]
    }
   ],
   "source": [
    "\"\"\"\n",
    "37. Convert a set to a tuple.\n",
    "\"\"\"\n",
    "s = {1, 2, 3, 5, 6, 9}\n",
    "t = tuple(s)\n",
    "print(t)\n"
   ]
  },
  {
   "cell_type": "code",
   "execution_count": 37,
   "id": "fd55b943-6b11-49ac-9368-921a572d26ba",
   "metadata": {},
   "outputs": [
    {
     "name": "stdout",
     "output_type": "stream",
     "text": [
      "9\n"
     ]
    }
   ],
   "source": [
    "\"\"\"\n",
    "38. Find the maximum value in a set.\n",
    "\"\"\"\n",
    "s = {1, 2, 3, 5, 6, 9}\n",
    "print(max(s))\n",
    "\n"
   ]
  },
  {
   "cell_type": "code",
   "execution_count": 38,
   "id": "b6adc79b-3e04-4346-9d4c-81e89b498944",
   "metadata": {},
   "outputs": [
    {
     "name": "stdout",
     "output_type": "stream",
     "text": [
      "1\n"
     ]
    }
   ],
   "source": [
    "\"\"\"\n",
    "39. Find the minimum value in a set.\n",
    "\"\"\"\n",
    "\n",
    "s = {1, 2, 3, 5, 6, 9}\n",
    "print(min(s))"
   ]
  },
  {
   "cell_type": "code",
   "execution_count": 41,
   "id": "4103d042-8979-499f-8a82-1b7e8a85fcd5",
   "metadata": {},
   "outputs": [
    {
     "name": "stdin",
     "output_type": "stream",
     "text": [
      "Enter size of the set 3\n",
      " 2\n",
      " 3\n",
      " 4\n"
     ]
    },
    {
     "name": "stdout",
     "output_type": "stream",
     "text": [
      "{'2', '4', '3'}\n"
     ]
    }
   ],
   "source": [
    "\"\"\"\n",
    "40. Create a set from user input.\n",
    "\"\"\"\n",
    "\n",
    "length = int(input(\"Enter size of the set\"))\n",
    "s = set(input() for i in range(length))\n",
    "print(s)"
   ]
  },
  {
   "cell_type": "code",
   "execution_count": 43,
   "id": "fc9dc974-d28b-434f-b704-9a8bbb666541",
   "metadata": {},
   "outputs": [
    {
     "name": "stdout",
     "output_type": "stream",
     "text": [
      "False\n",
      "True\n"
     ]
    }
   ],
   "source": [
    "\"\"\"\n",
    "41. Check if the intersection of two sets is empty.\n",
    "\n",
    "\"\"\"\n",
    "\n",
    "s1 = {1,2,3,4}\n",
    "s2 = {3,4,5,6}\n",
    "s3 = {5,6,7,8}\n",
    "print(s1.isdisjoint(s2))\n",
    "print(s1.isdisjoint(s3))"
   ]
  },
  {
   "cell_type": "code",
   "execution_count": 46,
   "id": "fd6dcbb1-f802-4d48-bf64-8035eecc5369",
   "metadata": {},
   "outputs": [
    {
     "name": "stdout",
     "output_type": "stream",
     "text": [
      "{0, 1, 2, 3, 5}\n"
     ]
    }
   ],
   "source": [
    "\"\"\"\n",
    "42. Create a set of the first 5 Fibonacci numbers.\n",
    "\"\"\"\n",
    "\n",
    "def fib(n):\n",
    "    a,b = 0,1\n",
    "    count = 2\n",
    "    l = [0,1]\n",
    "    while count <= n:\n",
    "        c = a+b\n",
    "        a = b\n",
    "        b = c\n",
    "        l.append(c)\n",
    "        count+=1\n",
    "    return set(l)\n",
    "\n",
    "print(fib(5))\n",
    "        "
   ]
  },
  {
   "cell_type": "code",
   "execution_count": 47,
   "id": "4a869ecb-3d2a-4246-b420-5e20896709e2",
   "metadata": {},
   "outputs": [
    {
     "name": "stdout",
     "output_type": "stream",
     "text": [
      "[1, 2, 3, 4, 5, 73, 52]\n"
     ]
    }
   ],
   "source": [
    "\"\"\"\n",
    "43. Remove duplicates from a list using sets.\n",
    "\"\"\"\n",
    "\n",
    "l = [2,3,1,4,5,4,73,3,52,3]\n",
    "\n",
    "s = set(l)\n",
    "l = list(s)\n",
    "print(l)"
   ]
  },
  {
   "cell_type": "code",
   "execution_count": 48,
   "id": "30a4dc93-1302-4770-8242-2280b62141cc",
   "metadata": {},
   "outputs": [
    {
     "name": "stdout",
     "output_type": "stream",
     "text": [
      "True\n",
      "True\n"
     ]
    }
   ],
   "source": [
    "\"\"\"\n",
    "44. Check if two sets have the same elements, regardless of their count.\n",
    "\"\"\"\n",
    "\n",
    "s1 = {1,2,3,4,5}\n",
    "s2 = {3,2,1,4,5}\n",
    "s3= {1,2,2,3,4,5,2,1}\n",
    "print(s1 == s2)\n",
    "print(s2 == s3)"
   ]
  },
  {
   "cell_type": "code",
   "execution_count": 50,
   "id": "c535da5c-508c-4d67-a086-34442be010f4",
   "metadata": {},
   "outputs": [
    {
     "name": "stdout",
     "output_type": "stream",
     "text": [
      "{32, 2, 4, 8, 16}\n"
     ]
    }
   ],
   "source": [
    "\"\"\"\n",
    "45. Create a set of the first `n` powers of 2.\n",
    "\"\"\"\n",
    "\n",
    "def power_of_two(n):\n",
    "    return set(2**i for i in range(1,n+1))\n",
    "\n",
    "print(power_of_two(5))"
   ]
  },
  {
   "cell_type": "code",
   "execution_count": 51,
   "id": "f9f94e3d-ce7d-4a8f-9bec-0b7b61f8da1e",
   "metadata": {},
   "outputs": [
    {
     "name": "stdout",
     "output_type": "stream",
     "text": [
      "{3}\n"
     ]
    }
   ],
   "source": [
    "\"\"\"\n",
    "46. Find the common elements between a set and a list.\n",
    "\"\"\"\n",
    "\n",
    "l = [1,2,3,5,3,2,2]\n",
    "s = {3,4,6,7,33}\n",
    "\n",
    "common = s.intersection(set(l))\n",
    "print(common)"
   ]
  },
  {
   "cell_type": "code",
   "execution_count": 53,
   "id": "f0d6cfed-86f8-42d2-96bb-dcebe25fb132",
   "metadata": {},
   "outputs": [
    {
     "name": "stdout",
     "output_type": "stream",
     "text": [
      "{1.0, 3.0, 6.0, 10.0, 15.0}\n"
     ]
    }
   ],
   "source": [
    "\"\"\"\n",
    "47. Create a set of the first `n` triangular numbers.\n",
    "\"\"\"\n",
    "\n",
    "def triangular(n):\n",
    "    return set(i*(i+1)/2 for i in range(1,n+1))\n",
    "               \n",
    "print(triangular(5))"
   ]
  },
  {
   "cell_type": "code",
   "execution_count": 55,
   "id": "0375fdd7-6f8a-4adc-a460-6e229c409299",
   "metadata": {},
   "outputs": [
    {
     "name": "stdout",
     "output_type": "stream",
     "text": [
      "True\n",
      "False\n"
     ]
    }
   ],
   "source": [
    "\"\"\"\n",
    "48. Check if a set contains another set as a subset.\n",
    "\"\"\"\n",
    "\n",
    "s1= {1,2,3,4}\n",
    "s2 = {6,3,2,12,1,4,9}\n",
    "\n",
    "s3 = {4,2,5,2}\n",
    "\n",
    "print(s1.issubset(s2))\n",
    "print(s3.issubset(s1))"
   ]
  },
  {
   "cell_type": "code",
   "execution_count": 56,
   "id": "96333012-cbd8-4012-9564-1c84fe0ba387",
   "metadata": {},
   "outputs": [
    {
     "name": "stdout",
     "output_type": "stream",
     "text": [
      "{0, 1}\n"
     ]
    }
   ],
   "source": [
    "\"\"\"\n",
    "49. Create a set of alternating 1s and 0s of length `n`.\n",
    "\"\"\"\n",
    "\n",
    "def alter_0_1(n):\n",
    "    return set(0 if i%2 == 0 else 1 for i in range(n))\n",
    "\n",
    "print(alter_0_1(10))"
   ]
  },
  {
   "cell_type": "code",
   "execution_count": 57,
   "id": "789542d8-8128-4c5b-ab06-c976230a1ee3",
   "metadata": {},
   "outputs": [
    {
     "name": "stdout",
     "output_type": "stream",
     "text": [
      "{1, 2, 3, 4, 5, 6, 9, 12}\n"
     ]
    }
   ],
   "source": [
    "\"\"\"\n",
    "50. Merge multiple sets into one.\n",
    "\"\"\"\n",
    "\n",
    "s1= {1,2,3,4}\n",
    "s2 = {6,3,2,12,1,4,9}\n",
    "\n",
    "s3 = {4,2,5,2}\n",
    "\n",
    "s = s1.union(s2,s3)\n",
    "print(s)"
   ]
  },
  {
   "cell_type": "code",
   "execution_count": null,
   "id": "d2313df0-cf4c-405b-858f-640e860df180",
   "metadata": {},
   "outputs": [],
   "source": []
  }
 ],
 "metadata": {
  "kernelspec": {
   "display_name": "Python 3 (ipykernel)",
   "language": "python",
   "name": "python3"
  },
  "language_info": {
   "codemirror_mode": {
    "name": "ipython",
    "version": 3
   },
   "file_extension": ".py",
   "mimetype": "text/x-python",
   "name": "python",
   "nbconvert_exporter": "python",
   "pygments_lexer": "ipython3",
   "version": "3.10.8"
  }
 },
 "nbformat": 4,
 "nbformat_minor": 5
}
